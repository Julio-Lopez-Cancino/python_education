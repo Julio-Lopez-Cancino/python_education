{
 "cells": [
  {
   "cell_type": "markdown",
   "id": "fa12b6c0",
   "metadata": {},
   "source": [
    "### Control Flow"
   ]
  },
  {
   "cell_type": "markdown",
   "id": "f60fb818",
   "metadata": {},
   "source": [
    "#### Conditional Logic\n",
    "\n",
    "[Truthy and Falsy](https://stackoverflow.com/questions/39983695/what-is-truthy-and-falsy-how-is-it-different-from-true-and-false)"
   ]
  },
  {
   "cell_type": "code",
   "execution_count": 7,
   "id": "37b54b44",
   "metadata": {},
   "outputs": [
    {
     "name": "stdout",
     "output_type": "stream",
     "text": [
      "You are not allowed to drive\n"
     ]
    }
   ],
   "source": [
    "is_old = False\n",
    "is_licenced = False\n",
    "\n",
    "if is_old:\n",
    "    print('You are old enough to drive')\n",
    "elif is_licenced:\n",
    "    print('You can drive now!')\n",
    "else:\n",
    "    print('You are not allowed to drive')"
   ]
  },
  {
   "cell_type": "code",
   "execution_count": 10,
   "id": "804345ff",
   "metadata": {},
   "outputs": [
    {
     "name": "stdout",
     "output_type": "stream",
     "text": [
      "You are old enough to drive\n"
     ]
    }
   ],
   "source": [
    "is_old = True\n",
    "is_licenced = True\n",
    "\n",
    "if is_old and is_licenced:\n",
    "    print('You are old enough to drive')\n",
    "else:\n",
    "    print('You are not allowed to drive')"
   ]
  },
  {
   "cell_type": "markdown",
   "id": "635840b8",
   "metadata": {},
   "source": [
    "#### Ternary Operator"
   ]
  },
  {
   "cell_type": "code",
   "execution_count": 23,
   "id": "24c07fbe",
   "metadata": {},
   "outputs": [
    {
     "name": "stdout",
     "output_type": "stream",
     "text": [
      "not allowed to message\n"
     ]
    }
   ],
   "source": [
    "# condition_if_true if condition else condition_if_else\n",
    "is_friend = False\n",
    "can_message = 'message allowed' if is_friend else 'not allowed to message'\n",
    "\n",
    "print(can_message)"
   ]
  },
  {
   "cell_type": "markdown",
   "id": "76d40153",
   "metadata": {},
   "source": [
    "#### Logic Operators"
   ]
  },
  {
   "cell_type": "code",
   "execution_count": 6,
   "id": "fdbb0e3e",
   "metadata": {},
   "outputs": [
    {
     "name": "stdout",
     "output_type": "stream",
     "text": [
      "False\n",
      "True\n",
      "False\n",
      "True\n",
      "False\n",
      "True\n",
      "False\n",
      "True\n",
      "True\n"
     ]
    }
   ],
   "source": [
    "print(4 > 5)\n",
    "print(4 < 5)\n",
    "print(4 == 5)\n",
    "print(4 != 5)\n",
    "print(4 >= 5)\n",
    "print(4 <= 5)\n",
    "print(True and False)\n",
    "print(True or False)\n",
    "print(not False)"
   ]
  },
  {
   "cell_type": "code",
   "execution_count": 8,
   "id": "2ee47451",
   "metadata": {},
   "outputs": [
    {
     "name": "stdout",
     "output_type": "stream",
     "text": [
      "False\n",
      "True\n"
     ]
    }
   ],
   "source": [
    "#check why:\n",
    "print('a' > 'b')\n",
    "print('a' > 'A')"
   ]
  },
  {
   "cell_type": "code",
   "execution_count": 7,
   "id": "f40dbc3a",
   "metadata": {},
   "outputs": [
    {
     "name": "stdout",
     "output_type": "stream",
     "text": [
      "1100001 1100010 1000001\n"
     ]
    }
   ],
   "source": [
    "print(' '.join(format(ord(x), 'b') for x in ['a', 'b', 'A']))"
   ]
  },
  {
   "cell_type": "markdown",
   "id": "4a41f854",
   "metadata": {},
   "source": [
    "Exercise on **Logical Operators**"
   ]
  },
  {
   "cell_type": "code",
   "execution_count": 7,
   "id": "b8be4009",
   "metadata": {},
   "outputs": [
    {
     "name": "stdout",
     "output_type": "stream",
     "text": [
      "at least you're getting there\n"
     ]
    }
   ],
   "source": [
    "is_magician = True\n",
    "is_expert = False\n",
    "\n",
    "# check if magician AND expert: \"you are a master magician\"\n",
    "if is_magician and is_expert:\n",
    "    print(\"you are a master magician\")\n",
    "# check if magician but not expert: \"at least you're getting there\"\n",
    "elif is_magician and not is_expert:\n",
    "    print(\"at least you're getting there\")\n",
    "# check if you're not a magician: \"you need magic power\"\n",
    "elif not is_magician:\n",
    "    print(\"you need magic powers\")"
   ]
  },
  {
   "cell_type": "markdown",
   "id": "f0b2caa7",
   "metadata": {},
   "source": [
    "#### Difference between is vs ==\n",
    "\n",
    "== checks for equality of value\n",
    "\n",
    "is checks location in memory where the value is stored"
   ]
  },
  {
   "cell_type": "code",
   "execution_count": 8,
   "id": "8cdbd144",
   "metadata": {},
   "outputs": [
    {
     "name": "stdout",
     "output_type": "stream",
     "text": [
      "True\n",
      "False\n",
      "False\n",
      "True\n",
      "True\n"
     ]
    }
   ],
   "source": [
    "print(True == 1)\n",
    "print('' == 1)\n",
    "print([] == 1)\n",
    "print(10 == 10.0)\n",
    "print([] == [])"
   ]
  },
  {
   "cell_type": "code",
   "execution_count": 9,
   "id": "911bc958",
   "metadata": {},
   "outputs": [
    {
     "name": "stdout",
     "output_type": "stream",
     "text": [
      "False\n",
      "False\n",
      "False\n",
      "False\n",
      "False\n"
     ]
    },
    {
     "name": "stderr",
     "output_type": "stream",
     "text": [
      "<>:1: SyntaxWarning: \"is\" with a literal. Did you mean \"==\"?\n",
      "<>:2: SyntaxWarning: \"is\" with a literal. Did you mean \"==\"?\n",
      "<>:3: SyntaxWarning: \"is\" with a literal. Did you mean \"==\"?\n",
      "<>:4: SyntaxWarning: \"is\" with a literal. Did you mean \"==\"?\n",
      "<>:1: SyntaxWarning: \"is\" with a literal. Did you mean \"==\"?\n",
      "<>:2: SyntaxWarning: \"is\" with a literal. Did you mean \"==\"?\n",
      "<>:3: SyntaxWarning: \"is\" with a literal. Did you mean \"==\"?\n",
      "<>:4: SyntaxWarning: \"is\" with a literal. Did you mean \"==\"?\n",
      "C:\\Users\\049185~1\\AppData\\Local\\Temp/ipykernel_30084/1066499794.py:1: SyntaxWarning: \"is\" with a literal. Did you mean \"==\"?\n",
      "  print(True is 1)\n",
      "C:\\Users\\049185~1\\AppData\\Local\\Temp/ipykernel_30084/1066499794.py:2: SyntaxWarning: \"is\" with a literal. Did you mean \"==\"?\n",
      "  print('' is 1)\n",
      "C:\\Users\\049185~1\\AppData\\Local\\Temp/ipykernel_30084/1066499794.py:3: SyntaxWarning: \"is\" with a literal. Did you mean \"==\"?\n",
      "  print([] is 1)\n",
      "C:\\Users\\049185~1\\AppData\\Local\\Temp/ipykernel_30084/1066499794.py:4: SyntaxWarning: \"is\" with a literal. Did you mean \"==\"?\n",
      "  print(10 is 10.0)\n"
     ]
    }
   ],
   "source": [
    "print(True is 1)\n",
    "print('' is 1)\n",
    "print([] is 1)\n",
    "print(10 is 10.0)\n",
    "print([] is [])"
   ]
  },
  {
   "cell_type": "code",
   "execution_count": 10,
   "id": "0209778f",
   "metadata": {},
   "outputs": [
    {
     "name": "stdout",
     "output_type": "stream",
     "text": [
      "True\n",
      "True\n"
     ]
    }
   ],
   "source": [
    "a = [1,2,3]\n",
    "b = a\n",
    "\n",
    "print(b == a); print(b is a)"
   ]
  },
  {
   "cell_type": "code",
   "execution_count": 11,
   "id": "7c0b25e9",
   "metadata": {},
   "outputs": [
    {
     "name": "stdout",
     "output_type": "stream",
     "text": [
      "True\n",
      "False\n"
     ]
    }
   ],
   "source": [
    "a1 = [1,2,3]\n",
    "b1 = [1,2,3]\n",
    "\n",
    "print(b1 == a1); print(b1 is a1)"
   ]
  },
  {
   "cell_type": "markdown",
   "id": "bc6bb12d",
   "metadata": {},
   "source": [
    "### LOOPS\n",
    "\n",
    "1. FOR\n",
    "2. WHILE\n",
    "\n",
    "iterable: one by one check each item in the collection"
   ]
  },
  {
   "cell_type": "code",
   "execution_count": 26,
   "id": "f963a913",
   "metadata": {},
   "outputs": [
    {
     "name": "stdout",
     "output_type": "stream",
     "text": [
      "(Z) (e) (r) (o) ( ) (t) (o) ( ) (M) (a) (s) (t) (e) (r) (y) "
     ]
    }
   ],
   "source": [
    "for item in 'Zero to Mastery':\n",
    "    print(item.join('()'), end=' ')"
   ]
  },
  {
   "cell_type": "code",
   "execution_count": 27,
   "id": "22badfd4",
   "metadata": {},
   "outputs": [
    {
     "name": "stdout",
     "output_type": "stream",
     "text": [
      "a 1 a 2 a 3 b 1 b 2 b 3 c 1 c 2 c 3 "
     ]
    }
   ],
   "source": [
    "for i in ['a', 'b', 'c']:\n",
    "    for j in [1, 2, 3]:\n",
    "        print(i, j, end=' ')"
   ]
  },
  {
   "cell_type": "markdown",
   "id": "258a0031",
   "metadata": {},
   "source": [
    "Iterating a dictionary"
   ]
  },
  {
   "cell_type": "code",
   "execution_count": 31,
   "id": "6cd94657",
   "metadata": {},
   "outputs": [
    {
     "name": "stdout",
     "output_type": "stream",
     "text": [
      "name Golem\n",
      "age 5006\n",
      "can_swin False\n",
      "\n",
      "Golem 5006 False \n",
      "\n",
      "name age can_swin "
     ]
    }
   ],
   "source": [
    "user = {\n",
    "    'name':'Golem',\n",
    "    'age':5006,\n",
    "    'can_swin':False\n",
    "}\n",
    "\n",
    "for key, value in user.items():\n",
    "    print(key, value)\n",
    "\n",
    "print() \n",
    "\n",
    "for item in user.values():\n",
    "    print(item, end=' ')\n",
    "\n",
    "print(end='\\n\\n')\n",
    "\n",
    "for item in user.keys():\n",
    "    print(item, end=' ')"
   ]
  },
  {
   "cell_type": "markdown",
   "id": "08757e67",
   "metadata": {},
   "source": [
    "Exercise create a counter"
   ]
  },
  {
   "cell_type": "code",
   "execution_count": 12,
   "id": "ba98f5ac",
   "metadata": {},
   "outputs": [
    {
     "name": "stdout",
     "output_type": "stream",
     "text": [
      "55 135 80\n"
     ]
    }
   ],
   "source": [
    "#counter\n",
    "my_list = [1,2,3,4,5,6,7,8,9,10]\n",
    "a = 0\n",
    "b = 0\n",
    "\n",
    "for n in my_list:\n",
    "    a += n\n",
    "\n",
    "for n in range(11,20):\n",
    "    b += n\n",
    "    \n",
    "print(a,b, b-a)"
   ]
  },
  {
   "cell_type": "markdown",
   "id": "2f889e0a",
   "metadata": {},
   "source": [
    "#### range()"
   ]
  },
  {
   "cell_type": "code",
   "execution_count": 9,
   "id": "fc9b1aea",
   "metadata": {},
   "outputs": [
    {
     "name": "stdout",
     "output_type": "stream",
     "text": [
      "range(0, 100)\n"
     ]
    }
   ],
   "source": [
    "print(range(100))"
   ]
  },
  {
   "cell_type": "code",
   "execution_count": 13,
   "id": "0a61bd1d",
   "metadata": {},
   "outputs": [
    {
     "name": "stdout",
     "output_type": "stream",
     "text": [
      "0 1 2 3 4 5 6 7 8 9 10 11 12 13 14 15 16 17 18 19 20 21 22 23 24 25 26 27 28 29 30 31 32 33 34 35 36 37 38 39 40 41 42 43 44 45 46 47 48 49 50 51 52 53 54 55 56 57 58 59 60 61 62 63 64 65 66 67 68 69 70 71 72 73 74 75 76 77 78 79 80 81 82 83 84 85 86 87 88 89 90 91 92 93 94 95 96 97 98 99 "
     ]
    }
   ],
   "source": [
    "#when don't care about the variable, use underscore \"_\"\n",
    "for _ in range(0,100):\n",
    "    print(_, end=' ')"
   ]
  },
  {
   "cell_type": "code",
   "execution_count": 19,
   "id": "b099c08d",
   "metadata": {},
   "outputs": [
    {
     "name": "stdout",
     "output_type": "stream",
     "text": [
      "100 95 90 85 80 75 70 65 60 55 50 45 40 35 30 25 20 15 10 5 "
     ]
    }
   ],
   "source": [
    "#reverse range\n",
    "for _ in range(100,0,-5):\n",
    "    print(_, end=' ')"
   ]
  },
  {
   "cell_type": "code",
   "execution_count": 20,
   "id": "a4e59bb6",
   "metadata": {},
   "outputs": [
    {
     "name": "stdout",
     "output_type": "stream",
     "text": [
      "[0, 1, 2, 3, 4, 5, 6, 7, 8, 9]\n",
      "[0, 1, 2, 3, 4, 5, 6, 7, 8, 9]\n",
      "[0, 1, 2, 3, 4, 5, 6, 7, 8, 9]\n",
      "[0, 1, 2, 3, 4, 5, 6, 7, 8, 9]\n",
      "[0, 1, 2, 3, 4, 5, 6, 7, 8, 9]\n"
     ]
    }
   ],
   "source": [
    "#create list with range() in a loop\n",
    "for _ in range(5):\n",
    "    print(list(range(10)))"
   ]
  },
  {
   "cell_type": "markdown",
   "id": "87674fd2",
   "metadata": {},
   "source": [
    "enumerate()"
   ]
  },
  {
   "cell_type": "code",
   "execution_count": 24,
   "id": "fc43c7bb",
   "metadata": {},
   "outputs": [
    {
     "name": "stdout",
     "output_type": "stream",
     "text": [
      "0 h, 1 e, 2 l, 3 l, 4 l, 5 o, 6 o, 7 o, "
     ]
    }
   ],
   "source": [
    "#returns the index of each item.\n",
    "for i,char in enumerate('helllooo'):\n",
    "    print(i, char, end=', ')"
   ]
  },
  {
   "cell_type": "code",
   "execution_count": 28,
   "id": "37e96863",
   "metadata": {},
   "outputs": [
    {
     "name": "stdout",
     "output_type": "stream",
     "text": [
      "The index of 50 is: 50\n"
     ]
    }
   ],
   "source": [
    "#find the index of a given number\n",
    "for i,char in enumerate(list(range(100))):\n",
    "    if char == 50:\n",
    "        print(f'The index of {char} is: {i}')\n",
    "    else:\n",
    "        continue"
   ]
  },
  {
   "cell_type": "markdown",
   "id": "7a6fff19",
   "metadata": {},
   "source": [
    "While loops"
   ]
  },
  {
   "cell_type": "code",
   "execution_count": 4,
   "id": "b090db3c",
   "metadata": {},
   "outputs": [
    {
     "name": "stdout",
     "output_type": "stream",
     "text": [
      "0 1 2 3 4 5 6 7 8 9 10 11 12 13 14 15 16 17 18 19 20 21 22 23 24 25 26 27 28 29 30 31 32 33 34 35 36 37 38 39 40 41 42 43 44 45 46 47 48 49 \n",
      "done with all the work\n"
     ]
    }
   ],
   "source": [
    "i = 0\n",
    "while i < 50:\n",
    "    print(i, end=' ')\n",
    "    #break\n",
    "    i += 1\n",
    "else:\n",
    "    print('\\ndone with all the work')"
   ]
  },
  {
   "cell_type": "code",
   "execution_count": 6,
   "id": "48c17f70",
   "metadata": {},
   "outputs": [
    {
     "name": "stdout",
     "output_type": "stream",
     "text": [
      "0\n",
      "1\n",
      "2\n"
     ]
    }
   ],
   "source": [
    "xlist = [1,2,3]\n",
    "\n",
    "i = 0\n",
    "while i < len(xlist):\n",
    "    print(i)\n",
    "    i += 1"
   ]
  },
  {
   "cell_type": "code",
   "execution_count": 7,
   "id": "ef2b0722",
   "metadata": {},
   "outputs": [
    {
     "name": "stdout",
     "output_type": "stream",
     "text": [
      "say something: hi\n",
      "say something: bye\n"
     ]
    }
   ],
   "source": [
    "while True:\n",
    "    response = input('say something: ')\n",
    "    if response == 'bye':\n",
    "        break"
   ]
  },
  {
   "cell_type": "markdown",
   "id": "1f85ad84",
   "metadata": {},
   "source": [
    "Key words:\n",
    "- **break**: break out of the current enclosing loop\n",
    "- **continue**: it goes back to the begining of the loop\n",
    "- **pass**: it goes to the next one... it's more used as place holder"
   ]
  },
  {
   "cell_type": "markdown",
   "id": "55f48bc2",
   "metadata": {},
   "source": [
    "My First GUI (*graphical user interface*)"
   ]
  },
  {
   "cell_type": "code",
   "execution_count": 34,
   "id": "418bda5c",
   "metadata": {},
   "outputs": [
    {
     "name": "stdout",
     "output_type": "stream",
     "text": [
      "      *       \n",
      "    * * *     \n",
      "  * * * * *   \n",
      "* * * * * * * \n",
      "     | |      \n",
      "     | |      \n"
     ]
    }
   ],
   "source": [
    "picture = [\n",
    "    [0,0,0,1,0,0,0],\n",
    "    [0,0,1,1,1,0,0],\n",
    "    [0,1,1,1,1,1,0],\n",
    "    [1,1,1,1,1,1,1],\n",
    "    [0,0,2,3,0,0,0],\n",
    "    [0,0,5,4,0,0,0]\n",
    "]\n",
    "\n",
    "for l in picture:\n",
    "    for i in l:\n",
    "        if i == 0:\n",
    "            print(' ', end=' ')\n",
    "        elif i == 1:\n",
    "            print('*', end=' ')\n",
    "        else:\n",
    "            print(' |', end='')\n",
    "    print()"
   ]
  },
  {
   "cell_type": "markdown",
   "id": "338e211c",
   "metadata": {},
   "source": [
    "Dev Best Practices\n",
    "1. Clean\n",
    "2. Readability\n",
    "3. Predictability\n",
    "4. DRY (don't repeat yourself)"
   ]
  },
  {
   "cell_type": "code",
   "execution_count": 36,
   "id": "93488e15",
   "metadata": {},
   "outputs": [
    {
     "name": "stdout",
     "output_type": "stream",
     "text": [
      "      *       \n",
      "    * * *     \n",
      "  * * * * *   \n",
      "* * * * * * * \n",
      "      *       \n",
      "      *       \n"
     ]
    }
   ],
   "source": [
    "pic = [\n",
    "    [0,0,0,1,0,0,0],\n",
    "    [0,0,1,1,1,0,0],\n",
    "    [0,1,1,1,1,1,0],\n",
    "    [1,1,1,1,1,1,1],\n",
    "    [0,0,0,1,0,0,0],\n",
    "    [0,0,0,1,0,0,0]\n",
    "]\n",
    "\n",
    "fill = '*'\n",
    "empty = ' '\n",
    "\n",
    "for l in pic:\n",
    "    for i in l:\n",
    "        if i == True:\n",
    "            print(fill, end=' ')\n",
    "        else:\n",
    "            print(empty, end=' ')\n",
    "    print()"
   ]
  },
  {
   "cell_type": "markdown",
   "id": "9faa80ab",
   "metadata": {},
   "source": [
    "Check for duplicates in list"
   ]
  },
  {
   "cell_type": "code",
   "execution_count": 37,
   "id": "1690555a",
   "metadata": {},
   "outputs": [
    {
     "name": "stdout",
     "output_type": "stream",
     "text": [
      "There are 2 in somelist. \n",
      "The dups are: ['b', 'n']\n"
     ]
    }
   ],
   "source": [
    "somelist = ['a', 'b', 'c', 'b', 'd', 'm', 'n', 'n']\n",
    "\n",
    "nodups = []\n",
    "dups = []\n",
    "dupscnt = 0\n",
    "\n",
    "for i in somelist:\n",
    "    if i in nodups:\n",
    "        dupscnt += 1\n",
    "        dups.append(i)\n",
    "    else:\n",
    "        nodups.append(i)\n",
    "        \n",
    "print(f'There are {dupscnt} dups items in somelist. \\nThe dups are: {dups}')\n",
    "        "
   ]
  },
  {
   "cell_type": "code",
   "execution_count": 38,
   "id": "da9d5170",
   "metadata": {},
   "outputs": [
    {
     "name": "stdout",
     "output_type": "stream",
     "text": [
      "There are 2 dups items in somelist. \n",
      "The dups are: ['b', 'n']\n"
     ]
    }
   ],
   "source": [
    "#cleaner solution\n",
    "\n",
    "duplicates = []\n",
    "for value in somelist:\n",
    "    if somelist.count(value) > 1:\n",
    "        if value not in duplicates:\n",
    "            duplicates.append(value)\n",
    "            \n",
    "print(f'There are {len(duplicates)} dups items in somelist. \\nThe dups are: {duplicates}')"
   ]
  }
 ],
 "metadata": {
  "kernelspec": {
   "display_name": "Python 3 (ipykernel)",
   "language": "python",
   "name": "python3"
  },
  "language_info": {
   "codemirror_mode": {
    "name": "ipython",
    "version": 3
   },
   "file_extension": ".py",
   "mimetype": "text/x-python",
   "name": "python",
   "nbconvert_exporter": "python",
   "pygments_lexer": "ipython3",
   "version": "3.9.7"
  }
 },
 "nbformat": 4,
 "nbformat_minor": 5
}
