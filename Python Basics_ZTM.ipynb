{
 "cells": [
  {
   "cell_type": "markdown",
   "id": "7f6a2c54",
   "metadata": {},
   "source": [
    "# INTRODUCTION TO PYTHON\n",
    "___\n",
    "\n",
    "## Fundamentals\n",
    "\n",
    "- What's Python?\n",
    "- Variables\n",
    "- Data Types\n",
    "    - Strings\n",
    "    - Integers\n",
    "    - Floats\n",
    "    - Booleans\n",
    "- Data Structures\n",
    "    - List \\[\\] (array)\n",
    "    - Dictionaries {} (hash tale)\n",
    "    - Tuple () (fixed)\n",
    "    - Set {} (unique)\n",
    "- Work Flows\n",
    "    - For Loops\n",
    "    - While Loops\n",
    "    - List Comprehension\n",
    "- Functions\n",
    "    * Modules and Libraries\n",
    "    * pip install\n",
    "- OOP\n",
    "    * Classes"
   ]
  },
  {
   "cell_type": "markdown",
   "id": "83c62afd",
   "metadata": {},
   "source": [
    "### What is Python?\n",
    "\n",
    "#### [Executive Summary](https://www.python.org/doc/essays/blurb/)\n",
    "\n",
    "Python is an interpreted, object-oriented, high-level programming language with dynamic semantics. \n",
    "\n",
    "*Everything in Python is an object*\n",
    "\n",
    "1. Its high-level built in data structures, combined with dynamic typing and dynamic binding\n",
    "    - for Rapid Application Development\n",
    "    - scripting or glue language to connect existing components together\n",
    "2. Python's simple, easy to learn syntax emphasizes readability \n",
    "    - reduces the cost of program maintenance\n",
    "3. Python supports modules and packages\n",
    "    - encourages program modularity and code reuse\n",
    "4. The Python interpreter and the extensive standard library are available in source or binary form without charge for all major platforms, and can be freely distributed."
   ]
  },
  {
   "cell_type": "code",
   "execution_count": 1,
   "id": "375ce8d2",
   "metadata": {},
   "outputs": [
    {
     "name": "stdout",
     "output_type": "stream",
     "text": [
      "The Zen of Python, by Tim Peters\n",
      "\n",
      "Beautiful is better than ugly.\n",
      "Explicit is better than implicit.\n",
      "Simple is better than complex.\n",
      "Complex is better than complicated.\n",
      "Flat is better than nested.\n",
      "Sparse is better than dense.\n",
      "Readability counts.\n",
      "Special cases aren't special enough to break the rules.\n",
      "Although practicality beats purity.\n",
      "Errors should never pass silently.\n",
      "Unless explicitly silenced.\n",
      "In the face of ambiguity, refuse the temptation to guess.\n",
      "There should be one-- and preferably only one --obvious way to do it.\n",
      "Although that way may not be obvious at first unless you're Dutch.\n",
      "Now is better than never.\n",
      "Although never is often better than *right* now.\n",
      "If the implementation is hard to explain, it's a bad idea.\n",
      "If the implementation is easy to explain, it may be a good idea.\n",
      "Namespaces are one honking great idea -- let's do more of those!\n"
     ]
    }
   ],
   "source": [
    "# Zen of Python\n",
    "import this"
   ]
  },
  {
   "cell_type": "markdown",
   "id": "bf8fde5d",
   "metadata": {},
   "source": [
    "#### How to run Python\n",
    "\n",
    "1. [Python IDLE (Integrated Development and Learning Enviroment)](https://www.python.org/downloads/)\n",
    "2. [Anaconda & IPython (Anaconda Distribution)](https://www.anaconda.com/products/distribution/)\n",
    "3. [Pycharm Community IDE (Integrated Development Enviroment)](https://www.jetbrains.com/pycharm/download/)\n",
    "4. [Online REPLIT](https://replit.com/~)"
   ]
  },
  {
   "cell_type": "code",
   "execution_count": 2,
   "id": "44433a7c",
   "metadata": {},
   "outputs": [
    {
     "name": "stdout",
     "output_type": "stream",
     "text": [
      "Hello, World!\n"
     ]
    }
   ],
   "source": [
    "#Iconic First Python Program\n",
    "print('Hello, World!')"
   ]
  },
  {
   "cell_type": "markdown",
   "id": "9080c7df",
   "metadata": {},
   "source": [
    "### Variable\n",
    "\n",
    "df: is a symbolic name that is a **reference** or **pointer** to an object\\value in memory. \n",
    "\n",
    "**Keep in Mind**\n",
    "1. There's no need to declare the variable\n",
    "2. Value is assigned by using **=**\n",
    "3. Value can be changed at any time, even the data type. \n",
    "4. Case Sensitive\n",
    "\n",
    "**Rules**:\n",
    "1. Variable name can only contain *letters*, *numbers*, and *underscores*\n",
    "2. Variable names can't start with a number.\n",
    "3. Blank spaces are not allowed in variable names.\n",
    "4. Avoid using Python keywords and functions.\n",
    "    - [python keywords](https://www.w3schools.com/python/python_ref_keywords.asp)\n",
    "5. Variable names should be short but descriptive.\n",
    "\n",
    "**Note**:\n",
    "*SCOPE (GLOBAL OR LOCAL) DEPENDS ON WHERE THE VARIABLE WAS DEFINED*"
   ]
  },
  {
   "cell_type": "code",
   "execution_count": 6,
   "id": "e8e33411",
   "metadata": {},
   "outputs": [],
   "source": [
    "message = 'Hello World!'\n",
    "_message = 'Hello World!'\n",
    "message1 = 'Hello World!'\n",
    "meesage = 'Hello World!'\n",
    "Message = 'Hello World!'"
   ]
  },
  {
   "cell_type": "code",
   "execution_count": 4,
   "id": "0749ca77",
   "metadata": {},
   "outputs": [
    {
     "name": "stdout",
     "output_type": "stream",
     "text": [
      "Hello World! Hello World! Hello World!\n"
     ]
    }
   ],
   "source": [
    "print(message, _message, message1)"
   ]
  },
  {
   "cell_type": "code",
   "execution_count": 7,
   "id": "6b2090ac",
   "metadata": {},
   "outputs": [
    {
     "name": "stdout",
     "output_type": "stream",
     "text": [
      "True\n",
      "False\n"
     ]
    }
   ],
   "source": [
    "print(message == Message)\n",
    "print(message is Message)"
   ]
  },
  {
   "cell_type": "code",
   "execution_count": 9,
   "id": "941b20dc",
   "metadata": {},
   "outputs": [
    {
     "name": "stdout",
     "output_type": "stream",
     "text": [
      "Hello World! HELLO WORLD!\n"
     ]
    }
   ],
   "source": [
    "message = message.upper()\n",
    "print(Message, message)"
   ]
  },
  {
   "cell_type": "markdown",
   "id": "1ba7a70f",
   "metadata": {},
   "source": [
    "Variables are unique, but they can be reassigned"
   ]
  },
  {
   "cell_type": "code",
   "execution_count": null,
   "id": "e2c9b72e",
   "metadata": {},
   "outputs": [],
   "source": [
    "iq = 'now it\\'s a string'\n",
    "print(iq, user_iq, _user_iq, _us3r_4q)"
   ]
  },
  {
   "cell_type": "markdown",
   "id": "66c6fa5b",
   "metadata": {},
   "source": [
    "We can assigned a multiple variables in one line"
   ]
  },
  {
   "cell_type": "code",
   "execution_count": 10,
   "id": "8cc49a5e",
   "metadata": {},
   "outputs": [
    {
     "name": "stdout",
     "output_type": "stream",
     "text": [
      "value of a: 1, value of b: 2, and value of c: 3.\n"
     ]
    }
   ],
   "source": [
    "a, b, c = 1, 2, 3\n",
    "print(f'value of a: {a}, value of b: {b}, and value of c: {c}.')"
   ]
  },
  {
   "cell_type": "markdown",
   "id": "eecd1ee0",
   "metadata": {},
   "source": [
    "### Data Type\n",
    "\n",
    "df: is a value in Python"
   ]
  },
  {
   "cell_type": "code",
   "execution_count": 11,
   "id": "7f91f34d",
   "metadata": {},
   "outputs": [
    {
     "name": "stdout",
     "output_type": "stream",
     "text": [
      "<class 'int'> <class 'float'> <class 'bool'> <class 'str'> <class 'list'> <class 'tuple'> <class 'set'> <class 'dict'> "
     ]
    }
   ],
   "source": [
    "fundamental_data_type = [int,float,bool,str,list,tuple,set,dict]\n",
    "\n",
    "for i in fundamental_data_type:\n",
    "    print(i, end=' ')"
   ]
  },
  {
   "cell_type": "markdown",
   "id": "481bd46f",
   "metadata": {},
   "source": [
    "#### Strings\n",
    "\n",
    "It's simple a piece of text\n",
    "Can use either single quotes ' or double quotes \"\""
   ]
  },
  {
   "cell_type": "code",
   "execution_count": 12,
   "id": "7300f4e3",
   "metadata": {},
   "outputs": [
    {
     "name": "stdout",
     "output_type": "stream",
     "text": [
      "supercoder supersecret \n",
      "W0W\n",
      "0 0\n",
      "---\n",
      "\n"
     ]
    }
   ],
   "source": [
    "username = 'supercoder'\n",
    "password = \"supersecret\"\n",
    "long_string = '''\n",
    "W0W\n",
    "0 0\n",
    "---\n",
    "'''\n",
    "print(username, password, long_string)"
   ]
  },
  {
   "cell_type": "code",
   "execution_count": 13,
   "id": "75f2059e",
   "metadata": {},
   "outputs": [
    {
     "name": "stdout",
     "output_type": "stream",
     "text": [
      "please, type your first name julio\n",
      "please, type your last name lopez\n",
      "Hello julio lopez\n"
     ]
    }
   ],
   "source": [
    "first_name = input('please, type your first name ').int()\n",
    "last_name = input('please, type your last name ').float()\n",
    "full_name = first_name + ' ' + last_name\n",
    "print('Hello ' + full_name)"
   ]
  },
  {
   "cell_type": "markdown",
   "id": "030ff546",
   "metadata": {},
   "source": [
    "Escape sequence\n",
    "- \\\\' --> omitts the single quotes\n",
    "- \\\\\" --> omitts the double quotes\n",
    "- \\\\\\ --> omitts the backslash\n",
    "- \\t --> adds a tab to the string\n",
    "- \\n --> adds a enter to the string"
   ]
  },
  {
   "cell_type": "code",
   "execution_count": 16,
   "id": "61c5ed4a",
   "metadata": {},
   "outputs": [
    {
     "name": "stdout",
     "output_type": "stream",
     "text": [
      "\t It's \"kind of\" sunny \n",
      " hope you have a good day!\n"
     ]
    }
   ],
   "source": [
    "#weather = 'it's sunny\n",
    "weather_1 = \"it's sunny\"\n",
    "#weather_2 = \"it's \"kind of\" sunny\"\n",
    "weather_3 = \"\\t It\\'s \\\"kind of\\\" sunny \\n hope you have a good day!\"\n",
    "print(weather_3)"
   ]
  },
  {
   "cell_type": "markdown",
   "id": "8f74b8a7",
   "metadata": {},
   "source": [
    "Formatting strings"
   ]
  },
  {
   "cell_type": "code",
   "execution_count": 17,
   "id": "6cb79e4d",
   "metadata": {},
   "outputs": [
    {
     "name": "stdout",
     "output_type": "stream",
     "text": [
      "hi Johnny. You are 55 years old\n",
      "hi Johnny. You are 55 years old\n"
     ]
    }
   ],
   "source": [
    "name = 'Johnny'\n",
    "age = 55\n",
    "\n",
    "print(f'hi {name}. You are {age} years old') #this is the best way to do it. Available at Python 3\n",
    "\n",
    "print('hi {}. You are {} years old'.format(name, age))"
   ]
  },
  {
   "cell_type": "markdown",
   "id": "e1ddcf71",
   "metadata": {},
   "source": [
    "String indexes\n",
    "\n",
    "We can access to a part of a string by using strings. \n",
    "\n",
    "*string\\[strart, end, step]*"
   ]
  },
  {
   "cell_type": "code",
   "execution_count": 21,
   "id": "293277b2",
   "metadata": {},
   "outputs": [
    {
     "name": "stdout",
     "output_type": "stream",
     "text": [
      "m\n",
      "me m\n",
      "m em\n",
      "mmm\n",
      "e\n",
      "em em em\n"
     ]
    }
   ],
   "source": [
    "selfish = 'me me me'\n",
    "        #  01234567\n",
    "\n",
    "print(selfish[0]) #first place of the string\n",
    "print(selfish[3:7]) #[start:stop]\n",
    "print(selfish[0:8:2]) #[start:stop:stepover]\n",
    "print(selfish[::3]) #returns every third place of the string starting from the beginning\n",
    "print(selfish[-1]) #returns last place of the string\n",
    "print(selfish[::-1]) #reverse the order of the string"
   ]
  },
  {
   "cell_type": "markdown",
   "id": "7acc0a84",
   "metadata": {},
   "source": [
    "Built-in Methods are actions that are performed and owned by each data types. Their availability depends on the data types. \n",
    "\n",
    "[Python String Methods](https://www.w3schools.com/python/python_ref_string.asp)"
   ]
  },
  {
   "cell_type": "code",
   "execution_count": 30,
   "id": "12e5b88e",
   "metadata": {},
   "outputs": [
    {
     "name": "stdout",
     "output_type": "stream",
     "text": [
      "TO BE OR NOT TO BE\n",
      "to be or not to be\n",
      "3\n",
      "to me or not to me\n",
      "To Be Or Not To Be\n"
     ]
    }
   ],
   "source": [
    "quote = 'to be or not to be'\n",
    "\n",
    "print(quote.upper())\n",
    "print(quote.lower())\n",
    "print(quote.find('be')) #returns the first index of the string found. \n",
    "print(quote.replace('be', 'me')) #creates a new string, but it's not assigned to anything.\n",
    "\n",
    "quote = quote.title()\n",
    "print(quote)"
   ]
  },
  {
   "cell_type": "markdown",
   "id": "3f03c3c5",
   "metadata": {},
   "source": [
    "#### Numbers\n",
    "There are three data types for numbers: **Integer**, **Float**, and **Complex**"
   ]
  },
  {
   "cell_type": "code",
   "execution_count": null,
   "id": "18ff80d0",
   "metadata": {},
   "outputs": [],
   "source": [
    "math_int = [[(2+4),'(2+4)'],[(2-4), '(2-4)'],[(2*4), '(2*4)'],\n",
    "            [(2/4),'(2/4)'],[(20+1.1),'(20+1.1)'],[(9.9+1.1),'(9.9+1.1)'],\n",
    "            [(2**2),'(2**2)'],[(5//4),'(5//4)'],[(5%4),'(5%4)']]\n",
    "\n",
    "for x, y in math_int:\n",
    "    print(f'the operation is {y} and the result is {x}, which is a data type: {type(x)}.')  "
   ]
  },
  {
   "cell_type": "markdown",
   "id": "563a28ee",
   "metadata": {},
   "source": [
    "There are built-in math functions that can be used in Python\n",
    "\n",
    "[build-in functions](https://docs.python.org/3/library/functions.html)"
   ]
  },
  {
   "cell_type": "code",
   "execution_count": null,
   "id": "08aeac3a",
   "metadata": {},
   "outputs": [],
   "source": [
    "rounding = print(round(3.9))\n",
    "rounding\n",
    "\n",
    "absolute = print(abs(-20))\n",
    "absolute"
   ]
  },
  {
   "cell_type": "markdown",
   "id": "39be7d73",
   "metadata": {},
   "source": [
    "Python also respects the operator precedence\n",
    "- parentheis **'()'**\n",
    "- power **'**'**\n",
    "- multiplication **'*** and division **'/'**\n",
    "- addition **'+'** and substraction **'-'**"
   ]
  },
  {
   "cell_type": "code",
   "execution_count": null,
   "id": "8e713d3d",
   "metadata": {},
   "outputs": [],
   "source": [
    "ex = [(20 - 3) + 2 ** 2, \n",
    "      (5 + 4) * 10 / 2, \n",
    "      ((5 + 4) * 10) / 2, \n",
    "      (5 + 4) * (10 / 2),\n",
    "      5 + (4 * 10) / 2,\n",
    "      5 + 4 * 10 // 2]\n",
    "\n",
    "for x in ex:\n",
    "    print(x)"
   ]
  },
  {
   "cell_type": "markdown",
   "id": "83fac709",
   "metadata": {},
   "source": [
    "Binary"
   ]
  },
  {
   "cell_type": "code",
   "execution_count": null,
   "id": "08c3199a",
   "metadata": {},
   "outputs": [],
   "source": [
    "for x in range (0,10):\n",
    "    print(f'natural number is {x} and binary is: {bin(x)}.')"
   ]
  },
  {
   "cell_type": "code",
   "execution_count": null,
   "id": "c5e22cf0",
   "metadata": {},
   "outputs": [],
   "source": [
    "print(int('0b101', 2))"
   ]
  },
  {
   "cell_type": "code",
   "execution_count": null,
   "id": "562d9569",
   "metadata": {},
   "outputs": [],
   "source": [
    "iq = 110\n",
    "user_iq = 120\n",
    "_user_iq = 130\n",
    "_us3r_4q = 140\n",
    "\n",
    "print(iq, user_iq, _user_iq, _us3r_4q)"
   ]
  },
  {
   "cell_type": "markdown",
   "id": "e816e4fd",
   "metadata": {},
   "source": [
    "Expression vs Statement\n",
    "\n",
    "Expression is what produces a value (operation), whereas a statement is the entire line of code that performs a sort of action. "
   ]
  },
  {
   "cell_type": "markdown",
   "id": "81491ff4",
   "metadata": {},
   "source": [
    "Augmented assignment operator"
   ]
  },
  {
   "cell_type": "code",
   "execution_count": null,
   "id": "24ceeab6",
   "metadata": {},
   "outputs": [],
   "source": [
    "some_value = 5\n",
    "some_value = some_value + 2\n",
    "print(some_value)"
   ]
  },
  {
   "cell_type": "code",
   "execution_count": null,
   "id": "9de0a08c",
   "metadata": {},
   "outputs": [],
   "source": [
    "some_value += 2\n",
    "some_value"
   ]
  },
  {
   "cell_type": "code",
   "execution_count": null,
   "id": "d068213e",
   "metadata": {},
   "outputs": [],
   "source": [
    "some_value -= 2\n",
    "some_value"
   ]
  },
  {
   "cell_type": "code",
   "execution_count": null,
   "id": "5f4e81ef",
   "metadata": {},
   "outputs": [],
   "source": [
    "some_value *= 2\n",
    "some_value"
   ]
  },
  {
   "cell_type": "markdown",
   "id": "fd902022",
   "metadata": {},
   "source": [
    "#### Boolean\n",
    "\n",
    "They are logic values that can be used to control our program. \n",
    "\n",
    "It can be either **True** or **False**\n"
   ]
  },
  {
   "cell_type": "code",
   "execution_count": null,
   "id": "800e7739",
   "metadata": {},
   "outputs": [],
   "source": [
    "name = 'Julio'\n",
    "is_cool = False #can be assigned to a variable.\n",
    "is_coll = True #can replace the previous value assigned.\n",
    "\n",
    "print(f'Number 1 will be treated as True \\'bool(1)\\': {bool(1)}, and 0 as False \\'bool(0)\\': {bool(0)}.')"
   ]
  },
  {
   "cell_type": "markdown",
   "id": "98788c81",
   "metadata": {},
   "source": [
    "Type Conversion"
   ]
  },
  {
   "cell_type": "code",
   "execution_count": null,
   "id": "95766cdd",
   "metadata": {},
   "outputs": [],
   "source": [
    "#data used for a profile\n",
    "name = 'Julio'\n",
    "age = 33\n",
    "relationship_status = 'married'"
   ]
  },
  {
   "cell_type": "markdown",
   "id": "0b5e6a16",
   "metadata": {},
   "source": [
    "*Age guessing program*"
   ]
  },
  {
   "cell_type": "code",
   "execution_count": null,
   "id": "1852358f",
   "metadata": {},
   "outputs": [],
   "source": [
    "#library datetime allows us to deal with datetime objecst\n",
    "from datetime import date \n",
    "\n",
    "current_year = date.today().year\n",
    "#input returns a string, but we converted into integer int() to perform the current_age operation.\n",
    "birth_year = int(input('what year were you born? ')) \n",
    "current_age = current_year - birth_year\n",
    "\n",
    "print(f'you\\'re {current_age} old.')"
   ]
  },
  {
   "cell_type": "code",
   "execution_count": null,
   "id": "18edf287",
   "metadata": {},
   "outputs": [],
   "source": [
    "#different greetings based on age\n",
    "\n",
    "if current_age <= 15:\n",
    "    greeting = \"Too young to be true!\"\n",
    "elif current_age <= 35:\n",
    "    greeting = \"You're in a good stage in life!\"\n",
    "else:\n",
    "    greeting = \"Watch out! You're getting old.\"\n",
    "\n",
    "print(f'Your age is: {current_age} \\n{greeting}')"
   ]
  },
  {
   "cell_type": "code",
   "execution_count": null,
   "id": "c5297997",
   "metadata": {},
   "outputs": [],
   "source": [
    "#password checker exercise\n",
    "\n",
    "username = input('Please, write your username: ')\n",
    "password = input('Please, write your password: ')\n",
    "\n",
    "password_length = len(password)\n",
    "password_hidden = '*' * password_length \n",
    "\n",
    "message = f'Hi, {username}, your password {password_hidden} is {password_length} characters long'\n",
    "\n",
    "print(message)"
   ]
  },
  {
   "cell_type": "markdown",
   "id": "a6e75882",
   "metadata": {},
   "source": [
    "### Data Structure\n",
    "\n",
    "DATA STRUCTURES MATRIX\n",
    "\n",
    "        |------------------|--------------------|------------------|\n",
    "        | Data Structure   | Literals           | Constructor      |\n",
    "        |------------------|--------------------|------------------|\n",
    "        | List             | [1,2,3]            | list((1, 2, 3))  |\n",
    "        |------------------|--------------------|------------------|\n",
    "        | Dictionary       | {'a': 1, 'b': 2}   | dict(a=1, b=2)   |\n",
    "        |------------------|--------------------|------------------|\n",
    "        | Tuple            | (1, 2, 3)          | tuple([1, 2, 3]) |\n",
    "        |------------------|--------------------|------------------|\n",
    "        | Set              | {1, 2, 3}          | set((1, 2, 3))   |\n",
    "        |------------------|--------------------|------------------|"
   ]
  },
  {
   "cell_type": "markdown",
   "id": "6b565dc6",
   "metadata": {},
   "source": [
    "#### List\n",
    "\n",
    "df: ordered sequence of objects of any type"
   ]
  },
  {
   "cell_type": "code",
   "execution_count": null,
   "id": "9494f894",
   "metadata": {},
   "outputs": [],
   "source": [
    "li = [1, 2, 3, 4, 5]\n",
    "li2 = ['a', 'b', 'c']\n",
    "li3 = [1, 2, 5, 'a', True]\n",
    "\n",
    "print(li, li2, li3, end='\\n')"
   ]
  },
  {
   "cell_type": "markdown",
   "id": "04934290",
   "metadata": {},
   "source": [
    "use range(n) built-in function to create a list of numbers."
   ]
  },
  {
   "cell_type": "code",
   "execution_count": null,
   "id": "6bdf1682",
   "metadata": {},
   "outputs": [],
   "source": [
    "# n = any number\n",
    "li4 = list(range(9))\n",
    "li4"
   ]
  },
  {
   "cell_type": "markdown",
   "id": "dc11a29e",
   "metadata": {},
   "source": [
    "slicing: start included but stop excluded... result = stop - start"
   ]
  },
  {
   "cell_type": "code",
   "execution_count": null,
   "id": "264f9a6c",
   "metadata": {},
   "outputs": [],
   "source": [
    "amazon_cart = [\n",
    "    'notebook',\n",
    "    'sunglasses',\n",
    "    'toys',\n",
    "    'grapes'\n",
    "]\n",
    "\n",
    "amazon_cart[2:] #will return the items from the third place and on, cause it starts counting from 0"
   ]
  },
  {
   "cell_type": "markdown",
   "id": "bf6f0cf7",
   "metadata": {},
   "source": [
    "can substitue an existing item with a new one by indicating the index of the existing item"
   ]
  },
  {
   "cell_type": "code",
   "execution_count": null,
   "id": "2744325c",
   "metadata": {},
   "outputs": [],
   "source": [
    "amazon_cart[0] = 'laptop'\n",
    "amazon_cart"
   ]
  },
  {
   "cell_type": "markdown",
   "id": "f3a2f4c1",
   "metadata": {},
   "source": [
    "to copy a list is needed to create a new variable = list_to_copy\\[:]"
   ]
  },
  {
   "cell_type": "code",
   "execution_count": null,
   "id": "6c029054",
   "metadata": {},
   "outputs": [],
   "source": [
    "new_cart = amazon_cart[:]\n",
    "new_cart[0] = 'gum'\n",
    "new_cart"
   ]
  },
  {
   "cell_type": "markdown",
   "id": "ac281cfa",
   "metadata": {},
   "source": [
    "Matrix\n",
    "\n",
    "df: way to describe a multidimensional list. \n",
    "\n",
    "nested_list\\[[], [], []]"
   ]
  },
  {
   "cell_type": "code",
   "execution_count": null,
   "id": "4cffc3ac",
   "metadata": {},
   "outputs": [],
   "source": [
    "matrix = [\n",
    "    [1, 2, 3],\n",
    "    [4, 5, 6],\n",
    "    [7, 8, 9]\n",
    "]\n",
    "\n",
    "matrix1 = [\n",
    "    [1, 0, 1],\n",
    "    [0, 1, 0],\n",
    "    [1, 0, 1]\n",
    "]\n",
    "\n",
    "print(matrix, end='\\n\\n')\n",
    "print(matrix1)"
   ]
  },
  {
   "cell_type": "code",
   "execution_count": null,
   "id": "f5b8ea70",
   "metadata": {},
   "outputs": [],
   "source": [
    "print(f'access frist array: matrix\\[0] {matrix[0]}')\n",
    "print(f'access second array: matrix\\[1] {matrix[1]}')\n",
    "print(f'access third array: matrix\\[2] {matrix[2]}')\n",
    "print(f'access first array, 3 item: matrix\\[0][2] {matrix[0][2]}')\n",
    "print(f'access second array, 2 item: matrix\\[1][1] {matrix[1][1]}')\n",
    "print(f'access second array, 1 item: matrix\\[2][0] {matrix[2][0]}')"
   ]
  },
  {
   "cell_type": "markdown",
   "id": "d03885ec",
   "metadata": {},
   "source": [
    "\n",
    "\n",
    "[List Methods](https://www.w3schools.com/python/python_ref_list.asp)"
   ]
  },
  {
   "cell_type": "code",
   "execution_count": null,
   "id": "45d6c10d",
   "metadata": {},
   "outputs": [],
   "source": [
    "basket = [1, 2, 3, 4, 5]\n",
    "basket"
   ]
  },
  {
   "cell_type": "markdown",
   "id": "c6600513",
   "metadata": {},
   "source": [
    "ADDING"
   ]
  },
  {
   "cell_type": "code",
   "execution_count": null,
   "id": "96a4bcf4",
   "metadata": {},
   "outputs": [],
   "source": [
    "#adding one single item\n",
    "basket.append(6)\n",
    "print(f'basket.append\\(6): {basket}')\n",
    "\n",
    "#adding a item in a given place\n",
    "basket.insert(0, 0)\n",
    "print(f'basket.insert\\(2.5, 2): {basket}')\n",
    "\n",
    "#adding multiple items\n",
    "basket.extend([7, 8, 9])\n",
    "print(f'basket.extend\\([7, 8, 9]): {basket}')"
   ]
  },
  {
   "cell_type": "markdown",
   "id": "2ac57744",
   "metadata": {},
   "source": [
    "REMOVING"
   ]
  },
  {
   "cell_type": "code",
   "execution_count": null,
   "id": "f506c76c",
   "metadata": {},
   "outputs": [],
   "source": [
    "#removing the last item\n",
    "basket.pop()\n",
    "print(f'basket.pop\\(): {basket}')\n",
    "\n",
    "#removing by idex\n",
    "new_basket = basket.pop(0)\n",
    "print(f'basket.pop\\(0): {basket}')\n",
    "print(f'new_basket = basket.pop\\(0): {new_basket}... .pop\\() returns a value.')\n",
    "\n",
    "#removing an given item\n",
    "basket.remove(4)\n",
    "print(f'basket.remove\\(4): {basket}')\n",
    "      \n",
    "#clear a list\n",
    "basket.clear()\n",
    "print(f'basket.clear\\(): {basket}')"
   ]
  },
  {
   "cell_type": "markdown",
   "id": "34fb5efa",
   "metadata": {},
   "source": [
    "FINDING"
   ]
  },
  {
   "cell_type": "code",
   "execution_count": null,
   "id": "296eef28",
   "metadata": {},
   "outputs": [],
   "source": [
    "letters = ['a', 'b', 'c', 'c', 'd', 'e' ]\n",
    "\n",
    "#return the index of an item in the list\n",
    "i = letters.index('e')\n",
    "print(f'the index of \\'e\\' is: {i}')\n",
    "\n",
    "#check if an item is in the list\n",
    "j = 'd' in letters\n",
    "print(f'is \\'d\\' in letters? {j}')\n",
    "      \n",
    "k = letters.count('c')\n",
    "print(f'number of \\'c\\' in letters: {k}')\n",
    "\n",
    "'''\n",
    "# for binary search and insertion\n",
    "import bisect \n",
    "use bisect.bisect(list, element) to find the location where an element should be inserted\n",
    "use bisect.insort(list, element) to insert the element\n",
    "'''"
   ]
  },
  {
   "cell_type": "markdown",
   "id": "a1f36293",
   "metadata": {},
   "source": [
    "SORTING OUT"
   ]
  },
  {
   "cell_type": "code",
   "execution_count": null,
   "id": "e78c1c8c",
   "metadata": {},
   "outputs": [],
   "source": [
    "#sort list inplace\n",
    "newlist = ['a', 'z', 'b', 'y', 'c', 'x']\n",
    "print(f'This is the original newlist: {newlist}')\n",
    "newlist.sort()\n",
    "print(f'By newlist.sort(), the list is sort in place. i.e.: {newlist}', end='\\n\\n')\n",
    "\n",
    "#new sorted list\n",
    "newlist2 = [7, 1, 2, 6, 0, 3, 2]\n",
    "newlist3 = sorted(newlist2)\n",
    "print(f'Sorted(newlis2t) will create a new sorted list... \\nthis the newlist2 : {newlist2} \\nand this is sorted(newlist2): {newlist3}.', end='\\n\\n')\n",
    "\n",
    "#reverse iterates over the elements of a sequence in reverse order\n",
    "ex1 = list(reversed(range(10)))\n",
    "print(f'This a reversed list by using list(reversed(range(10))): {ex1}', end='\\n\\n')\n",
    "\n",
    "#to sort out desc first use .sort() then .reverse()\n",
    "newlist2.sort()\n",
    "newlist2.reverse()\n",
    "print(f'Here\\'s the list sorted {newlist2} \\nand here\\'s the reversed list {newlist2}')"
   ]
  },
  {
   "cell_type": "markdown",
   "id": "e5b0b0cb",
   "metadata": {},
   "source": [
    "Common List Pattern"
   ]
  },
  {
   "cell_type": "code",
   "execution_count": null,
   "id": "21720f5a",
   "metadata": {},
   "outputs": [],
   "source": [
    "#use range()\n",
    "ex2 = list(range(20))\n",
    "print(f'Creating a list using list(range(20)): \\n{ex2}')\n",
    "\n",
    "#length of a list\n",
    "print(f'The length of ex2 is: {len(ex2)}', end='\\n\\n')\n",
    "\n",
    "#reversed a list by slicing\n",
    "ex3 = ex2[::-1]\n",
    "print(f'By using slicing [::2], we create a new reversed list: \\n{ex3}', end='\\n\\n')\n",
    "\n",
    "#.join()\n",
    "sentence = ['hi', 'my', 'name', 'is', 'Jojo']\n",
    "new_sentence = ' '.join(sentence)\n",
    "print(f'We join each of the words in the list \\\"sentence\" {sentence} \\nby using .join() in an empty string: {new_sentence}')"
   ]
  },
  {
   "cell_type": "markdown",
   "id": "8a4e0e82",
   "metadata": {},
   "source": [
    "List unpacking"
   ]
  },
  {
   "cell_type": "code",
   "execution_count": null,
   "id": "7288635c",
   "metadata": {},
   "outputs": [],
   "source": [
    "a,b,c, *other, d = [1, 2, 3, 4, 5, 6, 7, 8, 9]\n",
    "\n",
    "print(a)\n",
    "print(b)\n",
    "print(c)\n",
    "print(other)\n",
    "print(d)"
   ]
  },
  {
   "cell_type": "markdown",
   "id": "06f65173",
   "metadata": {},
   "source": [
    "#### List Comprehension\n",
    "\n",
    "    [expresion + context]\n",
    "\n",
    "```{python}\n",
    "[x * 2 for x in range(3)]\n",
    "```"
   ]
  },
  {
   "cell_type": "code",
   "execution_count": null,
   "id": "70ef6fca",
   "metadata": {},
   "outputs": [],
   "source": [
    "#find top earners\n",
    "employees = {\n",
    "    'Alice':100000,\n",
    "    'Bob':99817,\n",
    "    'Carol':122908,\n",
    "    'Frank':88123,\n",
    "    'Eve':93121\n",
    "}\n",
    "\n",
    "print([(k,v) for k,v in employees.items() if v >= 100000])"
   ]
  },
  {
   "cell_type": "code",
   "execution_count": null,
   "id": "6df75228",
   "metadata": {},
   "outputs": [],
   "source": [
    "#other example\n",
    "print([(x, y) for x in range(3) for y in range(3)])"
   ]
  },
  {
   "cell_type": "code",
   "execution_count": null,
   "id": "faf594b2",
   "metadata": {},
   "outputs": [],
   "source": [
    "#other example\n",
    "print([x ** 2 for x in range(10) if x % 2 > 0])"
   ]
  },
  {
   "cell_type": "code",
   "execution_count": null,
   "id": "f76f117c",
   "metadata": {},
   "outputs": [],
   "source": [
    "#other example\n",
    "print([x.lower() for x in ['I', 'AM', 'NOT', 'SHOUTING']])"
   ]
  },
  {
   "cell_type": "markdown",
   "id": "015041a3",
   "metadata": {},
   "source": [
    "*Given a multiline string, create a list of a lists: each consiting of all the words in a line that have more that three characters.*"
   ]
  },
  {
   "cell_type": "code",
   "execution_count": null,
   "id": "f593df3c",
   "metadata": {},
   "outputs": [],
   "source": [
    "#Data\n",
    "text = '''Call me Ishmael. Some year ago - never mind how long precisely - having\n",
    "little or no money in my purse, and nothing particular to interest me\n",
    "on shore, I thought I would sail about a little and see the watery part\n",
    "of the world. It is a way I have of driving off the spleen, and regulating\n",
    "the circulation. - Moby Dick'''\n",
    "\n",
    "#One-liner\n",
    "w = [[x for x in line.split() if len(x) >3] for line in text.split('\\n')]\n",
    "\n",
    "#Result\n",
    "print(w)"
   ]
  },
  {
   "cell_type": "code",
   "execution_count": null,
   "id": "0c237a4d",
   "metadata": {},
   "outputs": [],
   "source": [
    "#another example\n",
    "print([line.strip() for line in open(r\"C:\\PythonFundamentos\\zero-to-mastery\\Py_Programs\\readFiles.py\")])"
   ]
  },
  {
   "cell_type": "markdown",
   "id": "400a48fa",
   "metadata": {},
   "source": [
    "*Given a list of strings, our next one-liner creates a new list of tuples, each consisting of a Boolean value and the original string. The boolean value will apply according to a condition*"
   ]
  },
  {
   "cell_type": "code",
   "execution_count": null,
   "id": "c6fd7fec",
   "metadata": {},
   "outputs": [],
   "source": [
    "#Data\n",
    "txt = ['lambda function are anonymous functions.',\n",
    "      'anonymous functions dont have a name.',\n",
    "      'functions are objects in Python.']\n",
    "\n",
    "#One-Liner\n",
    "mark = map(lambda s: (True, s) if 'anonymous' in s else (False, s), txt)\n",
    "\n",
    "#Result\n",
    "print(list(mark))"
   ]
  },
  {
   "cell_type": "code",
   "execution_count": null,
   "id": "88c06405",
   "metadata": {},
   "outputs": [],
   "source": [
    "#one-liner to substitute the map()\n",
    "print([(True, x) if 'anonymous' in x else (False, x) for x in txt])"
   ]
  },
  {
   "cell_type": "markdown",
   "id": "3ec9ee54",
   "metadata": {},
   "source": [
    "#### None\n",
    "\n",
    "As the name suggestes it retrives nothing"
   ]
  },
  {
   "cell_type": "code",
   "execution_count": null,
   "id": "2a51ab7b",
   "metadata": {},
   "outputs": [],
   "source": [
    "a = None\n",
    "print(f'a = None would output: {a}')\n",
    "print('In this example a = None, we are creating a placeholder for a variable a that can be updated later on.')"
   ]
  },
  {
   "cell_type": "markdown",
   "id": "9ac64a5e",
   "metadata": {},
   "source": [
    "#### Dictionary\n",
    "\n",
    "df: is a data type in Python, but also a data structure. \n",
    "\n",
    "In other words is an unordered key-value pair (they are not next each other in memory)."
   ]
  },
  {
   "cell_type": "code",
   "execution_count": null,
   "id": "2e7ac4c8",
   "metadata": {},
   "outputs": [],
   "source": [
    "dictionary = {\n",
    "    'a': 1, #a is the key and 1 the value\n",
    "    'b': 2\n",
    "}\n",
    "\n",
    "print(dictionary['a'])\n",
    "print(dictionary['b'])"
   ]
  },
  {
   "cell_type": "code",
   "execution_count": null,
   "id": "f02ea8a1",
   "metadata": {},
   "outputs": [],
   "source": [
    "dictionary2 = {\n",
    "    'a': [1, 2, 3], #a is the key and 1 the value\n",
    "    'b': 'hello',\n",
    "    'x': True\n",
    "}\n",
    "\n",
    "print(f\"I pass the key dictionary2[\\'a\\'] to get the value: {dictionary2['a']}. \\nWhich is a type {type(dictionary2['a'])}\", end='\\n\\n')\n",
    "print(f\"I pass the key dictionary2[\\'b\\'] to get the value: {dictionary2['b']}. \\nWhich is a type {type(dictionary2['b'])}\", end='\\n\\n')\n",
    "print(f\"I pass the key dictionary2[\\'x\\'] to get the value: {dictionary2['x']}. \\nWhich is a type {type(dictionary2['x'])}\")"
   ]
  },
  {
   "cell_type": "markdown",
   "id": "82c0c921",
   "metadata": {},
   "source": [
    "A **List** can store a **Dictionary** data structure, and we can access by passing the key. "
   ]
  },
  {
   "cell_type": "code",
   "execution_count": null,
   "id": "c5d6ad5f",
   "metadata": {},
   "outputs": [],
   "source": [
    "MyListwithDict = [\n",
    "    {'a': [1, 2, 3],\n",
    "     'b': 'hello',\n",
    "     'x': True\n",
    "    },\n",
    "    {\n",
    "     'a': [4, 5, 6],\n",
    "     'b': 'bye',\n",
    "     'x': False  \n",
    "    }\n",
    "    \n",
    "]\n",
    "\n",
    "print(f\"When passing MyListwithDict[0]['a'][2], I'll get value: {MyListwithDict[0]['a'][2]}. \\nWhich is third value of the first key in the first item of the list\", end='\\n\\n')\n",
    "print(f\"When passing MyListwithDict[1]['b'][1], I'll get value: {MyListwithDict[1]['b'][1]}. \\nWhich is second value of the second key in the second item of the list\", end='\\n\\n')"
   ]
  },
  {
   "cell_type": "markdown",
   "id": "6b977964",
   "metadata": {},
   "source": [
    "A **key** has to be **ummutable**... so a list can be passed as a key\n",
    "\n",
    "A **key** also has to be **unique** or ir will be overwritten\n",
    "\n",
    "[Dictionary methods](https://www.w3schools.com/python/python_ref_dictionary.asp)"
   ]
  },
  {
   "cell_type": "code",
   "execution_count": null,
   "id": "28bfa1a4",
   "metadata": {},
   "outputs": [],
   "source": [
    "#.get() to check if a key exists, and pass a default value in case doesn't exist.\n",
    "\n",
    "user = {\n",
    "    'first_name': 'john',\n",
    "    'last_name': 'deer',\n",
    "}\n",
    "\n",
    "user2 = {\n",
    "    'first_name': 'john',\n",
    "    'last_name': 'deer',\n",
    "    'age': 20\n",
    "    \n",
    "}\n",
    "\n",
    "print(f\"By passsing user.get('age') we check if it exists: {user.get('age')}.\", end='\\n\\n')\n",
    "print(f\"By passsing user.get('age', 55) we check if it exists. If not, then we set a default value of : {user.get('age', 55)}.\", end='\\n\\n')\n",
    "print(f\"By passsing user2.get('age', 55) will get 20 instead of 55, because the key 'age' exists: {user2.get('age', 55)}.\")"
   ]
  },
  {
   "cell_type": "code",
   "execution_count": null,
   "id": "ce694e80",
   "metadata": {},
   "outputs": [],
   "source": [
    "#check if a key exist using \"in\"\n",
    "print('first_name' in user)\n",
    "print('age' in user)"
   ]
  },
  {
   "cell_type": "code",
   "execution_count": null,
   "id": "bcfae80b",
   "metadata": {},
   "outputs": [],
   "source": [
    "#check for a key with \".keys()\"\n",
    "print('last_name' in user.keys())\n",
    "print('age' in user2.keys())"
   ]
  },
  {
   "cell_type": "code",
   "execution_count": null,
   "id": "4ece11ba",
   "metadata": {},
   "outputs": [],
   "source": [
    "#check for a value with \".values()\"\n",
    "print('deer' in user.values())\n",
    "print(20 in user2.values())"
   ]
  },
  {
   "cell_type": "code",
   "execution_count": null,
   "id": "d602528d",
   "metadata": {},
   "outputs": [],
   "source": [
    "#check the key-value pairs\n",
    "print(user.items())\n",
    "print(user2.items())"
   ]
  },
  {
   "cell_type": "code",
   "execution_count": null,
   "id": "e4db225d",
   "metadata": {},
   "outputs": [],
   "source": [
    "#clear a dictionary\n",
    "user.clear()\n",
    "print(user)"
   ]
  },
  {
   "cell_type": "code",
   "execution_count": null,
   "id": "4a031af9",
   "metadata": {},
   "outputs": [],
   "source": [
    "#copy a dictionary with .copy()\n",
    "user = user2.copy()\n",
    "user2.clear()\n",
    "print(user)\n",
    "print(user2)"
   ]
  },
  {
   "cell_type": "code",
   "execution_count": null,
   "id": "6e00e497",
   "metadata": {},
   "outputs": [],
   "source": [
    "#remove the last key-value pair with \".popitem()\"\n",
    "user3 = user.copy()\n",
    "print(user3)\n",
    "\n",
    "user3.popitem()\n",
    "print(user3)"
   ]
  },
  {
   "cell_type": "code",
   "execution_count": null,
   "id": "4b293bad",
   "metadata": {},
   "outputs": [],
   "source": [
    "#update a key-value pair with \".update()\"\n",
    "print(f'This is the dictionary before update: {user}', end='\\n\\n')\n",
    "\n",
    "user.update({'age': 55})\n",
    "print(f'And this is the dictionary after update: {user}')"
   ]
  },
  {
   "cell_type": "markdown",
   "id": "c29d63d7",
   "metadata": {},
   "source": [
    "Create a dictionary from a sequences"
   ]
  },
  {
   "cell_type": "code",
   "execution_count": null,
   "id": "09100afa",
   "metadata": {},
   "outputs": [],
   "source": [
    "#key and value lists to map\n",
    "key_list = ['x', 'y', 'z']\n",
    "value_list = [2, 4, 8]\n",
    "\n",
    "mapping = {} #create an empty dict\n",
    "\n",
    "#iterate over key and values lists.\n",
    "for key, value in zip(key_list, value_list):\n",
    "    mapping[key] = value\n",
    "\n",
    "print(mapping)"
   ]
  },
  {
   "cell_type": "code",
   "execution_count": null,
   "id": "6efeb822",
   "metadata": {},
   "outputs": [],
   "source": [
    "#using range() and reversed(range())\n",
    "mapping2 = dict(zip(range(5), reversed(range(5))))\n",
    "print(f'Here\\'s a new dict by using zip(): {mapping2}', end='\\n\\n')\n",
    "print(f'The first argument of zip() is for keys {mapping2.keys()}, \\nand the second argument is for values {mapping2.values()}')"
   ]
  },
  {
   "cell_type": "markdown",
   "id": "37f1b0b2",
   "metadata": {},
   "source": [
    "For additional note go to Python Overview under [Dictionary section](file:///C:/PythonFundamentos/dev-hacks/python%20overview.txt)"
   ]
  },
  {
   "cell_type": "markdown",
   "id": "905154a9",
   "metadata": {},
   "source": [
    "#### Tuples\n",
    "\n",
    "It's a ummutable data structure that uses parenthesis \"( )\".\n",
    "\n",
    "Used for data structures that don't need to change. i.e.: (latitude + longitude), (weekdays), (months)\n",
    "\n",
    "[Tuples methods](https://www.w3schools.com/python/python_ref_tuple.asp)"
   ]
  },
  {
   "cell_type": "code",
   "execution_count": null,
   "id": "61082264",
   "metadata": {},
   "outputs": [],
   "source": [
    "my_tuple = (1, 2, 3, 4, 5, 5)\n",
    "print(my_tuple)"
   ]
  },
  {
   "cell_type": "code",
   "execution_count": null,
   "id": "8f9e4dc0",
   "metadata": {},
   "outputs": [],
   "source": [
    "new_tuple = my_tuple[1:3]\n",
    "print(new_tuple)"
   ]
  },
  {
   "cell_type": "code",
   "execution_count": null,
   "id": "431af489",
   "metadata": {},
   "outputs": [],
   "source": [
    "#unpacking as in lists\n",
    "x1, y1, z1, *other = my_tuple\n",
    "print(f'x1 is: {x1}')\n",
    "print(f'y1 is: {y1}')\n",
    "print(f'z1 is: {z1}')\n",
    "print(f'other is: {other}')"
   ]
  },
  {
   "cell_type": "code",
   "execution_count": null,
   "id": "a4c5e937",
   "metadata": {},
   "outputs": [],
   "source": [
    "#few methods\n",
    "print(f'There are {my_tuple.count(5)} number five in my_typle')\n",
    "print(f'The index of number 3 in my_tuple is: {my_tuple.index(3)}')\n",
    "print(f'The length of my_tuple is: {len(my_tuple)} elements')"
   ]
  },
  {
   "cell_type": "markdown",
   "id": "163c3ed4",
   "metadata": {},
   "source": [
    "#### Sets\n",
    "\n",
    "df: set is an unordered collection of unique objects. \n",
    "\n",
    "[Sets methods](https://www.w3schools.com/python/python_ref_set.asp)"
   ]
  },
  {
   "cell_type": "code",
   "execution_count": null,
   "id": "0d3469c4",
   "metadata": {},
   "outputs": [],
   "source": [
    "my_set = {1, 2, 3, 4, 5}\n",
    "print(my_set)"
   ]
  },
  {
   "cell_type": "code",
   "execution_count": null,
   "id": "8e614834",
   "metadata": {},
   "outputs": [],
   "source": [
    "my_set_unique = {1, 2, 3, 4, 5, 5}\n",
    "print(my_set_unique)"
   ]
  },
  {
   "cell_type": "code",
   "execution_count": null,
   "id": "25df875d",
   "metadata": {},
   "outputs": [],
   "source": [
    "#add\n",
    "my_set.add(100)\n",
    "print(my_set)\n",
    "\n",
    "my_set.add(2)\n",
    "print(my_set)"
   ]
  },
  {
   "cell_type": "markdown",
   "id": "34438dbe",
   "metadata": {},
   "source": [
    "We can convert a list to a set to remove duplicates"
   ]
  },
  {
   "cell_type": "code",
   "execution_count": null,
   "id": "43d2cb03",
   "metadata": {},
   "outputs": [],
   "source": [
    "list1 = ['yo', 'yo', 'hello', '!']\n",
    "print(f'This is my list: {list1}')\n",
    "\n",
    "print(f'Now this is a list converted to a set: {set(list1)}')"
   ]
  },
  {
   "cell_type": "code",
   "execution_count": null,
   "id": "f6afd87c",
   "metadata": {},
   "outputs": [],
   "source": [
    "set1 = {1, 2, 3, 4, 5}\n",
    "set2 = {4, 5, 6, 7, 8, 9, 10}\n",
    "\n",
    "print('use .difference() to check different objects in two sets')\n",
    "print(f'the difference of set1 and set2 is: {set1.difference(set2)}')"
   ]
  },
  {
   "cell_type": "code",
   "execution_count": null,
   "id": "3269b536",
   "metadata": {},
   "outputs": [],
   "source": [
    "#remove an object\n",
    "set1.discard(4)\n",
    "print(f'This is set1 after set1.discard(4): {set1}')"
   ]
  },
  {
   "cell_type": "code",
   "execution_count": null,
   "id": "49222151",
   "metadata": {},
   "outputs": [],
   "source": [
    "#remove objects from set based on another set\n",
    "set1.difference_update(set2)\n",
    "print(f'This is the set1 after set1.difference_update(set2): {set1}')"
   ]
  },
  {
   "cell_type": "code",
   "execution_count": null,
   "id": "a79a0598",
   "metadata": {},
   "outputs": [],
   "source": [
    "set1 = {1, 2, 3, 4, 5}\n",
    "set2 = {4, 5, 6, 7, 8, 9, 10}\n",
    "\n",
    "print(f'set1 and set2 instersection is: {set1.intersection(set2)}')\n",
    "print(f'Or you can use \"&\": set1 & set2 {set1 & set2}')"
   ]
  },
  {
   "cell_type": "code",
   "execution_count": null,
   "id": "b80905b7",
   "metadata": {},
   "outputs": [],
   "source": [
    "#check is there is nothing in common\n",
    "set1 = {1, 2, 3, 4, 5}\n",
    "set2 = {6, 7, 8, 9, 10}\n",
    "print(f'set1 disjoints set2? {set1.isdisjoint(set2)}')"
   ]
  },
  {
   "cell_type": "code",
   "execution_count": null,
   "id": "03279401",
   "metadata": {},
   "outputs": [],
   "source": [
    "#union sets\n",
    "set1 = {1, 2, 3, 4, 5}\n",
    "set2 = {4, 5, 6, 7, 8, 9, 10}\n",
    "\n",
    "print(f'Use .union() to get a new set of set1 and set2: {set1.union(set2)}')\n",
    "print(f'Or you can use \"|\" : set1 | set 2 {set1 | set2}')"
   ]
  },
  {
   "cell_type": "code",
   "execution_count": null,
   "id": "309d402f",
   "metadata": {},
   "outputs": [],
   "source": [
    "#check if a set contains or belongs to another set\n",
    "set3 = {'a', 'b'}\n",
    "set4 = {'a', 'b', 'c', 'd', 'e'}\n",
    "\n",
    "print(f'Is set3 a subset of set4? {set3.issubset(set4)}')\n",
    "print(f'Is set4 a subset of set3? {set4.issubset(set3)}')\n",
    "print(f'Is set3 a superset of set4? {set3.issuperset(set4)}')\n",
    "print(f'Is set4 a superset of set3? {set4.issuperset(set3)}')"
   ]
  }
 ],
 "metadata": {
  "kernelspec": {
   "display_name": "Python 3 (ipykernel)",
   "language": "python",
   "name": "python3"
  },
  "language_info": {
   "codemirror_mode": {
    "name": "ipython",
    "version": 3
   },
   "file_extension": ".py",
   "mimetype": "text/x-python",
   "name": "python",
   "nbconvert_exporter": "python",
   "pygments_lexer": "ipython3",
   "version": "3.9.7"
  }
 },
 "nbformat": 4,
 "nbformat_minor": 5
}
