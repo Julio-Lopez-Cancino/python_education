{
 "cells": [
  {
   "cell_type": "markdown",
   "id": "beceffce",
   "metadata": {},
   "source": [
    "#### Functions\n",
    "\n",
    "- Should do one thing really well.\n",
    "- Should return something."
   ]
  },
  {
   "cell_type": "code",
   "execution_count": 1,
   "id": "af6cbc56",
   "metadata": {},
   "outputs": [
    {
     "name": "stdout",
     "output_type": "stream",
     "text": [
      "helllloooooo\n"
     ]
    }
   ],
   "source": [
    "def say_hello():\n",
    "    print('helllloooooo')\n",
    "    \n",
    "say_hello()"
   ]
  },
  {
   "cell_type": "markdown",
   "id": "2d1391d3",
   "metadata": {},
   "source": [
    "#### Parameters and Arguments\n",
    "\n",
    "- Parameters are variables inside a function.\n",
    "- Arguments are the actual values we provide to a function.\n",
    "    - Default Parameters: declared in the function itself\n",
    "    - Positional: has to come in the order declared in the function\n",
    "    - keyword: explicitly declare what value is for the argument"
   ]
  },
  {
   "cell_type": "markdown",
   "id": "c9709db9",
   "metadata": {},
   "source": [
    "#parameters\n",
    "#Default parameters\n",
    "def say_hello(name='ET', emoji='👽'):\n",
    "    print(f'Hellloooo, {name} {emoji}!!')\n",
    "\n",
    "say_hello()\n",
    "    \n",
    "#positional arguments\n",
    "say_hello('Julio', '🇲🇽')\n",
    "say_hello('Yoyo', '👋')\n",
    "\n",
    "#keyword arguments\n",
    "say_hello(emoji='😘', name='Amanda')"
   ]
  },
  {
   "cell_type": "markdown",
   "id": "40c4941b",
   "metadata": {},
   "source": [
    "#### Return"
   ]
  },
  {
   "cell_type": "code",
   "execution_count": 1,
   "id": "cf05854e",
   "metadata": {},
   "outputs": [
    {
     "name": "stdout",
     "output_type": "stream",
     "text": [
      "9\n"
     ]
    }
   ],
   "source": [
    "def sum(num1, num2):\n",
    "    return num1 + num2\n",
    "\n",
    "print(sum(4,5))"
   ]
  },
  {
   "cell_type": "code",
   "execution_count": 3,
   "id": "538c4217",
   "metadata": {},
   "outputs": [
    {
     "name": "stdout",
     "output_type": "stream",
     "text": [
      "25\n"
     ]
    }
   ],
   "source": [
    "total = sum(10,5)\n",
    "print(sum(10, total))"
   ]
  },
  {
   "cell_type": "code",
   "execution_count": 23,
   "id": "485b113c",
   "metadata": {},
   "outputs": [],
   "source": [
    "def checkDriverAge():\n",
    "    age = input(\"What is your age?: \")\n",
    "    if int(age) < 18:\n",
    "        return print(\"Sorry, you are too young to drive this car. Powering off\")\n",
    "    elif int(age) > 18:\n",
    "        return print(\"Powering On. Enjoy the ride!\");\n",
    "    elif int(age) == 18:\n",
    "        return print(\"Congratulations on your first year of driving. Enjoy the ride!\")"
   ]
  },
  {
   "cell_type": "code",
   "execution_count": 24,
   "id": "93f3984a",
   "metadata": {},
   "outputs": [
    {
     "name": "stdout",
     "output_type": "stream",
     "text": [
      "What is your age?: 18\n",
      "Congratulations on your first year of driving. Enjoy the ride!\n"
     ]
    }
   ],
   "source": [
    "checkDriverAge()"
   ]
  },
  {
   "cell_type": "code",
   "execution_count": 20,
   "id": "4a13dee2",
   "metadata": {},
   "outputs": [
    {
     "name": "stdout",
     "output_type": "stream",
     "text": [
      "What is your age?: 25\n",
      "Sorry, you are too young to drive this car. Powering off\n",
      "Powering On. Enjoy the ride!\n"
     ]
    }
   ],
   "source": [
    "def checkDriverAge(age=0):\n",
    "    if int(age) < 18:\n",
    "        print(\"Sorry, you are too young to drive this car. Powering off\")\n",
    "    elif int(age) > 18:\n",
    "        print(\"Powering On. Enjoy the ride!\")\n",
    "    elif int(age) == 18:\n",
    "        print(\"Congratulations on your first year of driving. Enjoy the ride!\")\n",
    "\n",
    "age = input(\"What is your age?: \")\n",
    "\n",
    "checkDriverAge()\n",
    "checkDriverAge(age)"
   ]
  },
  {
   "cell_type": "markdown",
   "id": "deee829e",
   "metadata": {},
   "source": [
    "#### Docstrings\n",
    "\n",
    "Mostly used to comment inside a function or a module. Use three simple quotes **''' '''**"
   ]
  },
  {
   "cell_type": "code",
   "execution_count": 1,
   "id": "f0463003",
   "metadata": {},
   "outputs": [
    {
     "name": "stdout",
     "output_type": "stream",
     "text": [
      "!!!!\n",
      "\n",
      "    Info: this function tests and prints param a\n",
      "    \n"
     ]
    }
   ],
   "source": [
    "def test(a):\n",
    "    '''\n",
    "    Info: this function tests and prints param a\n",
    "    '''\n",
    "    print(a)\n",
    "    \n",
    "test('!!!!')\n",
    "\n",
    "#magic or dunder method to access to docstring of a function or method.\n",
    "print(test.__doc__)\n"
   ]
  },
  {
   "cell_type": "markdown",
   "id": "dd3518e7",
   "metadata": {},
   "source": [
    "#### Clean Code"
   ]
  },
  {
   "cell_type": "code",
   "execution_count": 6,
   "id": "de519b39",
   "metadata": {},
   "outputs": [
    {
     "name": "stdout",
     "output_type": "stream",
     "text": [
      "Is 51 even? False\n",
      "Is 1024 even? True\n"
     ]
    }
   ],
   "source": [
    "def is_even(num):\n",
    "    \n",
    "    #if num % 2 == 0:\n",
    "        #return True\n",
    "    #elif num != 0:\n",
    "        #return False\n",
    "        \n",
    "    #if num % 2 == 0:\n",
    "        #return True\n",
    "    #else:\n",
    "        #return False\n",
    "    \n",
    "    #if num % 2 == 0:\n",
    "        #return True\n",
    "    #return False\n",
    "    \n",
    "    #return True if num % 2 == 0 else False\n",
    "    \n",
    "    return num % 2 == 0 \n",
    "    \n",
    "\n",
    "print(f'Is 51 even? {is_even(51)}')\n",
    "print(f'Is 1024 even? {is_even(1024)}')"
   ]
  },
  {
   "cell_type": "markdown",
   "id": "422437c7",
   "metadata": {},
   "source": [
    "#### Arguments and Key Argument\n",
    "\n",
    "    - *args\n",
    "    - **kwargs"
   ]
  },
  {
   "cell_type": "markdown",
   "id": "ca50e893",
   "metadata": {},
   "source": [
    "Rule: \n",
    "1. params \n",
    "2. *args \n",
    "3. default parameters\n",
    "4. **kwargs"
   ]
  },
  {
   "cell_type": "code",
   "execution_count": 13,
   "id": "4fd01ade",
   "metadata": {},
   "outputs": [
    {
     "name": "stdout",
     "output_type": "stream",
     "text": [
      "(range(1, 11, 2),)\n",
      "25\n"
     ]
    }
   ],
   "source": [
    "# *args accepts as many positional arguments as I pass\n",
    "def super_func(*args):\n",
    "    print(args)\n",
    "    return sum(*args)\n",
    "\n",
    "print(super_func(range(1, 11, 2)))"
   ]
  },
  {
   "cell_type": "code",
   "execution_count": 18,
   "id": "5201d6c4",
   "metadata": {},
   "outputs": [
    {
     "name": "stdout",
     "output_type": "stream",
     "text": [
      "30\n"
     ]
    }
   ],
   "source": [
    "# **kwargs stores values in a dictionary\n",
    "def super_super_func(*args, **kwargs):\n",
    "    total = 0\n",
    "    for v in kwargs.values():\n",
    "        total += v\n",
    "    return sum(args) + total\n",
    "\n",
    "print(super_super_func(1,2,3,4,5, num1=5, num2=10))"
   ]
  },
  {
   "cell_type": "markdown",
   "id": "99c4f11d",
   "metadata": {},
   "source": [
    "#### Exercise"
   ]
  },
  {
   "cell_type": "code",
   "execution_count": 12,
   "id": "8294dba9",
   "metadata": {},
   "outputs": [
    {
     "name": "stdout",
     "output_type": "stream",
     "text": [
      "10\n"
     ]
    }
   ],
   "source": [
    "def highest_even(lista):\n",
    "    even = [x for x in lista if x % 2 == 0]\n",
    "    return max(even)\n",
    "\n",
    "print(highest_even([10, 2, 3, 4, 8, 11]))"
   ]
  },
  {
   "cell_type": "markdown",
   "id": "541b8ab2",
   "metadata": {},
   "source": [
    "#### Walrus Operator\n",
    "\n",
    "**:=** assigns values to variables as part of a larger expression.\n",
    "\n",
    "released with Python 3.8"
   ]
  },
  {
   "cell_type": "code",
   "execution_count": 13,
   "id": "e9123c54",
   "metadata": {},
   "outputs": [
    {
     "name": "stdout",
     "output_type": "stream",
     "text": [
      "too long 16 elements\n"
     ]
    }
   ],
   "source": [
    "a = 'helloooooooooooo'\n",
    "\n",
    "if (len(a) > 10):\n",
    "    print(f'too long {len(a)} elements')"
   ]
  },
  {
   "cell_type": "code",
   "execution_count": 22,
   "id": "77c8ed66",
   "metadata": {},
   "outputs": [
    {
     "name": "stdout",
     "output_type": "stream",
     "text": [
      "too long 16 elements\n"
     ]
    }
   ],
   "source": [
    "a = 'helloooooooooooo'\n",
    "\n",
    "if ((n := len(a)) > 10):\n",
    "    print(f'too long {n} elements')"
   ]
  },
  {
   "cell_type": "code",
   "execution_count": 23,
   "id": "5b08b022",
   "metadata": {},
   "outputs": [
    {
     "name": "stdout",
     "output_type": "stream",
     "text": [
      "16\n",
      "15\n",
      "14\n",
      "13\n",
      "12\n",
      "11\n",
      "10\n",
      "9\n",
      "8\n",
      "7\n",
      "6\n",
      "5\n",
      "4\n",
      "3\n",
      "2\n"
     ]
    }
   ],
   "source": [
    "while ((n := len(a)) > 1):\n",
    "    print(n)\n",
    "    a = a[:-1] #revomes the last letter"
   ]
  },
  {
   "cell_type": "markdown",
   "id": "03b40236",
   "metadata": {},
   "source": [
    "#### Scope\n",
    "\n",
    "df: what variables do I have access to?\n",
    "\n",
    "Rules:\n",
    "1. Start with local scope\n",
    "2. Parent local\n",
    "3. Global\n",
    "4. Built-in python functions\n",
    "\n",
    "Why: to avoid innecesary varibales in memory (\"dups\") and save space in memory once variables inside a function are used. "
   ]
  },
  {
   "cell_type": "code",
   "execution_count": 29,
   "id": "78d68451",
   "metadata": {},
   "outputs": [
    {
     "name": "stdout",
     "output_type": "stream",
     "text": [
      "1\n",
      "<built-in function sum>\n"
     ]
    }
   ],
   "source": [
    "a = 1\n",
    "\n",
    "def parent():\n",
    "    #a = 10\n",
    "    def confusion():\n",
    "        #return a\n",
    "        return sum \n",
    "    return confusion()\n",
    "\n",
    "print(a)\n",
    "print(parent())"
   ]
  },
  {
   "cell_type": "code",
   "execution_count": 30,
   "id": "c10d3a84",
   "metadata": {},
   "outputs": [
    {
     "name": "stdout",
     "output_type": "stream",
     "text": [
      "10\n",
      "300\n"
     ]
    }
   ],
   "source": [
    "#parameters are considered as local variable\n",
    "a = 10\n",
    "def other(b):\n",
    "    a = 90\n",
    "    return b\n",
    "\n",
    "print(a)\n",
    "print(other(300))"
   ]
  },
  {
   "cell_type": "markdown",
   "id": "fef52fc5",
   "metadata": {},
   "source": [
    "#### Global"
   ]
  },
  {
   "cell_type": "code",
   "execution_count": 32,
   "id": "52766fcf",
   "metadata": {},
   "outputs": [
    {
     "name": "stdout",
     "output_type": "stream",
     "text": [
      "1\n"
     ]
    }
   ],
   "source": [
    "total = 0\n",
    "\n",
    "def count():\n",
    "    '''without global -> UnboundLocalError: local variable 'total' referenced before assignment'''\n",
    "    global total\n",
    "    total += 1\n",
    "    return total\n",
    "\n",
    "\n",
    "print(count())"
   ]
  },
  {
   "cell_type": "code",
   "execution_count": 33,
   "id": "66174762",
   "metadata": {},
   "outputs": [
    {
     "name": "stdout",
     "output_type": "stream",
     "text": [
      "4\n"
     ]
    }
   ],
   "source": [
    "def count(total):\n",
    "    total += 1\n",
    "    return total\n",
    "\n",
    "print(count(count(count(total))))"
   ]
  },
  {
   "cell_type": "markdown",
   "id": "aff012f2",
   "metadata": {},
   "source": [
    "#### nonlocal\n",
    "\n",
    "refers to parent local... not global, but outside local."
   ]
  },
  {
   "cell_type": "code",
   "execution_count": 34,
   "id": "7516ee7c",
   "metadata": {},
   "outputs": [
    {
     "name": "stdout",
     "output_type": "stream",
     "text": [
      "inner: nonlocal\n",
      "outer: nonlocal\n"
     ]
    }
   ],
   "source": [
    "def outer():\n",
    "    x = 'local'\n",
    "    def inner():\n",
    "        nonlocal x\n",
    "        x = 'nonlocal' #assigning this string to the nonlocal\n",
    "        print('inner:', x)\n",
    "\n",
    "    inner()\n",
    "    print(\"outer:\", x)\n",
    "\n",
    "outer()"
   ]
  },
  {
   "cell_type": "code",
   "execution_count": 35,
   "id": "40cd621e",
   "metadata": {},
   "outputs": [
    {
     "name": "stdout",
     "output_type": "stream",
     "text": [
      "inner: nonlocal\n",
      "outer: local\n"
     ]
    }
   ],
   "source": [
    "def outer():\n",
    "    x = 'local'\n",
    "    def inner():\n",
    "        #nonlocal x\n",
    "        x = 'nonlocal' #assigning this string to the nonlocal\n",
    "        print('inner:', x)\n",
    "\n",
    "    inner()\n",
    "    print(\"outer:\", x)\n",
    "\n",
    "outer()"
   ]
  }
 ],
 "metadata": {
  "kernelspec": {
   "display_name": "Python 3 (ipykernel)",
   "language": "python",
   "name": "python3"
  },
  "language_info": {
   "codemirror_mode": {
    "name": "ipython",
    "version": 3
   },
   "file_extension": ".py",
   "mimetype": "text/x-python",
   "name": "python",
   "nbconvert_exporter": "python",
   "pygments_lexer": "ipython3",
   "version": "3.9.7"
  }
 },
 "nbformat": 4,
 "nbformat_minor": 5
}
