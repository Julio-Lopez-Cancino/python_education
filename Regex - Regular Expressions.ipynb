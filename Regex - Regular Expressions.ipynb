{
 "cells": [
  {
   "cell_type": "markdown",
   "metadata": {},
   "source": [
    "### Regular Expressions\n",
    "\n",
    "They are a domain specific language (DSL) that is presented as a library in most modern programming languages, not just in Python. \n",
    "\n",
    "They are useful for two main tasks:\n",
    "1. verifying that strings match a pattern (for instance, that a string has the format of an emails address)\n",
    "2. performing substitutions in a string (such as changing all American spellings to British ones)"
   ]
  },
  {
   "cell_type": "code",
   "execution_count": 1,
   "metadata": {},
   "outputs": [],
   "source": [
    "#importing the library\n",
    "import re"
   ]
  },
  {
   "cell_type": "markdown",
   "metadata": {},
   "source": [
    "**MATCH** used to determine whether it matches at the BEGINNING of a string"
   ]
  },
  {
   "cell_type": "code",
   "execution_count": 2,
   "metadata": {},
   "outputs": [
    {
     "name": "stdout",
     "output_type": "stream",
     "text": [
      "Match\n"
     ]
    }
   ],
   "source": [
    "pattern = r'spam' # to avoid any confusion while working with regurlar expressions, we would use raw strings. \n",
    "\n",
    "if re.match(pattern, 'spamspamspam'):\n",
    "    print('Match')\n",
    "else:\n",
    "    print('No match')\n"
   ]
  },
  {
   "cell_type": "markdown",
   "metadata": {},
   "source": [
    "**SEARCH** find a match of a pattern ANYWHERE in the string"
   ]
  },
  {
   "cell_type": "markdown",
   "metadata": {},
   "source": [
    "**FINDALL** returns a list of all substrings that match a pattern"
   ]
  },
  {
   "cell_type": "code",
   "execution_count": 4,
   "metadata": {},
   "outputs": [
    {
     "name": "stdout",
     "output_type": "stream",
     "text": [
      "No Match\n",
      "Match\n",
      "['spam', 'spam']\n"
     ]
    }
   ],
   "source": [
    "if re.match(pattern, 'eggspamsausagespam'):\n",
    "    print('Match')\n",
    "else: \n",
    "    print('No Match')\n",
    "    \n",
    "if re.search(pattern, 'eggspamsausagespam'):\n",
    "    print('Match')\n",
    "else:\n",
    "    print('No Match')\n",
    "    \n",
    "print(re.findall(pattern, 'eggspamsausagespam'))"
   ]
  },
  {
   "cell_type": "markdown",
   "metadata": {},
   "source": [
    "SEARCH returns an object with several METHODS that give details about it:\n",
    "\n",
    "- .group() = returns the string matched\n",
    "- .start() = start position of the FIRST match\n",
    "- .end() = ending position of the FIRST match\n",
    "- .span() = start and end position of the FIRST match in a tuple"
   ]
  },
  {
   "cell_type": "code",
   "execution_count": 10,
   "metadata": {},
   "outputs": [
    {
     "name": "stdout",
     "output_type": "stream",
     "text": [
      "pam\n",
      "4\n",
      "7\n",
      "(4, 7)\n"
     ]
    }
   ],
   "source": [
    "pattern = r'pam'\n",
    "\n",
    "match = re.search(pattern, 'eggspamsausagespam')\n",
    "\n",
    "if match:\n",
    "    print(match.group())\n",
    "    print(match.start())\n",
    "    print(match.end())\n",
    "    print(match.span())"
   ]
  },
  {
   "cell_type": "markdown",
   "metadata": {},
   "source": [
    "**SUB** replaces all occurrences of the pattern in a string with **REPL**, subsistituting all occurrences, unless **COUNT** provided. "
   ]
  },
  {
   "cell_type": "code",
   "execution_count": 11,
   "metadata": {},
   "outputs": [
    {
     "name": "stdout",
     "output_type": "stream",
     "text": [
      "My name is Amy. Hi David\n"
     ]
    }
   ],
   "source": [
    "string = 'My name is David. Hi David'\n",
    "pattern = r'David'\n",
    "newstr = re.sub(pattern, 'Amy', string, count=1)\n",
    "print(newstr)"
   ]
  },
  {
   "cell_type": "markdown",
   "metadata": {},
   "source": [
    "### Metacharacters"
   ]
  },
  {
   "cell_type": "markdown",
   "metadata": {},
   "source": [
    "**.(dot)** this matches ANY CHARACTER, other that a new line"
   ]
  },
  {
   "cell_type": "code",
   "execution_count": 12,
   "metadata": {
    "scrolled": true
   },
   "outputs": [
    {
     "name": "stdout",
     "output_type": "stream",
     "text": [
      "Match 1\n",
      "Match 2\n"
     ]
    }
   ],
   "source": [
    "pattern = r'gr.y'\n",
    "\n",
    "if re.match(pattern, 'grey'):\n",
    "    print('Match 1')\n",
    "\n",
    "if re.match(pattern, 'gray'):\n",
    "    print('Match 2')\n",
    "    \n",
    "if re.match(pattern, 'blue'):\n",
    "    print('Match 3')"
   ]
  },
  {
   "cell_type": "markdown",
   "metadata": {},
   "source": [
    "**^** and **$**, these match the start and end of a string, respectively"
   ]
  },
  {
   "cell_type": "code",
   "execution_count": 13,
   "metadata": {},
   "outputs": [
    {
     "name": "stdout",
     "output_type": "stream",
     "text": [
      "Match 1\n",
      "Match 2\n"
     ]
    }
   ],
   "source": [
    "pattern = r'^gr.y$'\n",
    "\n",
    "if re.match(pattern, 'grey'):\n",
    "    print('Match 1')\n",
    "\n",
    "if re.match(pattern, 'gray'):\n",
    "    print('Match 2')\n",
    "    \n",
    "if re.match(pattern, 'stringray'):\n",
    "    print('Match 3')"
   ]
  },
  {
   "cell_type": "markdown",
   "metadata": {},
   "source": [
    "*The pattern \"^gr.y$\" means that the string should **start with gr**, then **follow with any character**, except a newline, and **end with y**.*"
   ]
  },
  {
   "cell_type": "markdown",
   "metadata": {},
   "source": [
    "### Character Classes\n",
    "\n",
    "They provide a way to match only one specific set of characters. It is created by putting the characters it matches inside **square brackets - \\[  ]**"
   ]
  },
  {
   "cell_type": "code",
   "execution_count": 14,
   "metadata": {},
   "outputs": [
    {
     "name": "stdout",
     "output_type": "stream",
     "text": [
      "Match 1\n",
      "Match 2\n"
     ]
    }
   ],
   "source": [
    "pattern = r'[aeiou]' #matches all strings that contain any one of the characters defined\n",
    "\n",
    "if re.search(pattern, 'grey'):\n",
    "    print('Match 1')\n",
    "    \n",
    "if re.search(pattern, 'qwertyuiop'):\n",
    "    print('Match 2')\n",
    "    \n",
    "if re.search(pattern, 'rhythm myths'):\n",
    "    print('Match 3')"
   ]
  },
  {
   "cell_type": "markdown",
   "metadata": {},
   "source": [
    "Character classes can also match ranges of characters.\n",
    "- \\[a-z] = any lowercase alphabetic character\n",
    "- \\[G-P] = any uppercase character from G to P\n",
    "- \\[0-9] = any digit\n",
    "- \\[A-Za-z] = a letter of any case"
   ]
  },
  {
   "cell_type": "code",
   "execution_count": 15,
   "metadata": {},
   "outputs": [
    {
     "name": "stdout",
     "output_type": "stream",
     "text": [
      "Match 1\n"
     ]
    }
   ],
   "source": [
    "pattern = r\"[A-Z][A-Z][0-9]\"\n",
    "\n",
    "if re.search(pattern, \"LS8\"):\n",
    "    print('Match 1')\n",
    "    \n",
    "if re.search(pattern, \"E3\"):\n",
    "    print('Match 2')\n",
    "    \n",
    "if re.search(pattern, '1ab'):\n",
    "    print('Match 3')"
   ]
  },
  {
   "cell_type": "markdown",
   "metadata": {},
   "source": [
    "**\\[^A-Z]** matches any character other than the ones included. **^** has no meaning unless it is the first character in a class."
   ]
  },
  {
   "cell_type": "code",
   "execution_count": 16,
   "metadata": {},
   "outputs": [
    {
     "name": "stdout",
     "output_type": "stream",
     "text": [
      "Match 1\n",
      "Match 2\n"
     ]
    }
   ],
   "source": [
    "pattern = r\"[^A-Z]\" #excludes uppercase strings\n",
    "\n",
    "if re.search(pattern, \"this is all quite\"):\n",
    "    print('Match 1')\n",
    "    \n",
    "if re.search(pattern, \"AbCdEfG123\"):\n",
    "    print('Match 2')\n",
    "    \n",
    "if re.search(pattern, \"THISISALLSHOUTING\"):\n",
    "    PRINT('Match 3')"
   ]
  },
  {
   "cell_type": "markdown",
   "metadata": {},
   "source": [
    "To specify numbers of repetitions\n",
    "\n",
    "- **\\*** zero or more repetitions of the preceding expression:\n",
    "    + single character\n",
    "    + class\n",
    "    + group of characters in parentheses\n",
    "    \n",
    "- **+** one or more repetitions\n",
    "\n",
    "- **?** zero or one repetition\n",
    "\n",
    "- **{x,y}** to indicate the number of repetitions between two numbers\n",
    "    + if x omitted the default is zero\n",
    "    + if y omitted it takes to infinity"
   ]
  },
  {
   "cell_type": "code",
   "execution_count": 17,
   "metadata": {},
   "outputs": [
    {
     "name": "stdout",
     "output_type": "stream",
     "text": [
      "Match 1\n",
      "Match 2\n"
     ]
    }
   ],
   "source": [
    "pattern = r\"egg(spam)*\" #zero or more repetitions\n",
    "\n",
    "if re.match(pattern, 'egg'):\n",
    "    print('Match 1')\n",
    "    \n",
    "if re.match(pattern, 'eggspamspamegg'):\n",
    "    print('Match 2')\n",
    "    \n",
    "if re.match(pattern, 'spam'):\n",
    "    print('Match 3')"
   ]
  },
  {
   "cell_type": "code",
   "execution_count": 18,
   "metadata": {},
   "outputs": [
    {
     "name": "stdout",
     "output_type": "stream",
     "text": [
      "Match 1\n",
      "Match 2\n"
     ]
    }
   ],
   "source": [
    "pattern = r\"g+\" #one or more repetitions\n",
    "\n",
    "if re.match(pattern, 'g'):\n",
    "    print('Match 1')\n",
    "    \n",
    "if re.match(pattern, 'gggggggggggggg'):\n",
    "    print('Match 2')\n",
    "    \n",
    "if re.match(pattern, 'abc'):\n",
    "    print('Match 3')"
   ]
  },
  {
   "cell_type": "code",
   "execution_count": 19,
   "metadata": {},
   "outputs": [
    {
     "name": "stdout",
     "output_type": "stream",
     "text": [
      "Match 1\n",
      "Match 2\n"
     ]
    }
   ],
   "source": [
    "pattern = r'ice(-)?cream' #zero or one repetitions\n",
    "\n",
    "if re.match(pattern, 'ice-cream'):\n",
    "    print('Match 1')\n",
    "    \n",
    "if re.match(pattern, 'icecream'):\n",
    "    print('Match 2')\n",
    "    \n",
    "if re.match(pattern, 'sausage'):\n",
    "    print('Match 3')\n",
    "    \n",
    "if re.match(pattern, 'ice--ice'):\n",
    "    print('Match 4')"
   ]
  },
  {
   "cell_type": "code",
   "execution_count": 25,
   "metadata": {},
   "outputs": [
    {
     "name": "stdout",
     "output_type": "stream",
     "text": [
      "Match 1\n",
      "Match 2\n"
     ]
    }
   ],
   "source": [
    "pattern = r\"9{1,3}$\" #it has 1 to 3 nines\n",
    "\n",
    "if re.match(pattern, '9'):\n",
    "    print('Match 1')\n",
    "    \n",
    "if re.match(pattern, '999'):\n",
    "    print('Match 2')\n",
    "    \n",
    "if re.match(pattern, '9999'):\n",
    "    print('Match 3')\n",
    "    \n",
    "if re.match(pattern, 'Hi999'):\n",
    "    print('Match 4')"
   ]
  },
  {
   "cell_type": "markdown",
   "metadata": {},
   "source": [
    "**GROUPS** can be created by surrounding part of a regular expression with **parentheses ( )**.\n",
    "This means that a group can be given as an argument to metacharacters such as \\* and ?"
   ]
  },
  {
   "cell_type": "code",
   "execution_count": 26,
   "metadata": {},
   "outputs": [
    {
     "name": "stdout",
     "output_type": "stream",
     "text": [
      "Match 1\n",
      "Match 2\n"
     ]
    }
   ],
   "source": [
    "pattern = r\"egg(spam)*\"\n",
    "\n",
    "if re.match(pattern, 'egg'):\n",
    "    print('Match 1')\n",
    "    \n",
    "if re.match(pattern, 'eggspamspamspamegg'):\n",
    "    print('Match 2')\n",
    "    \n",
    "if re.match(pattern, 'spam'):\n",
    "    print('Match 3')"
   ]
  },
  {
   "cell_type": "code",
   "execution_count": 30,
   "metadata": {},
   "outputs": [
    {
     "name": "stdout",
     "output_type": "stream",
     "text": [
      "abcdefghi\n",
      "abcdefghi\n",
      "bc\n",
      "de\n",
      "('bc', 'de', 'fgh', 'g')\n"
     ]
    }
   ],
   "source": [
    "pattern = r\"a(bc)(de)(f(g)h)i\"\n",
    "\n",
    "match = re.match(pattern, 'abcdefghijklmnop')\n",
    "if match:\n",
    "    print(match.group()) #returns the whole match\n",
    "    print(match.group(0)) #returns the whole match\n",
    "    print(match.group(1)) #returns 1 group from the left\n",
    "    print(match.group(2)) #returns 2 group from the left\n",
    "    print(match.groups()) #returns all groups up from 1"
   ]
  },
  {
   "cell_type": "markdown",
   "metadata": {},
   "source": [
    "- Named groups = **(?P<name\\>...)** they behave as normal group, except they can be accessed by its name\n",
    "- Non-capturing groups = **(?:...)** they are not accessible by the group method, they can be added without breaking the numbering"
   ]
  },
  {
   "cell_type": "code",
   "execution_count": 32,
   "metadata": {},
   "outputs": [
    {
     "name": "stdout",
     "output_type": "stream",
     "text": [
      "abc\n",
      "('abc', 'ghi')\n"
     ]
    }
   ],
   "source": [
    "pattern = r\"(?P<first>abc)(?:def)(ghi)\"\n",
    "\n",
    "match = re.match(pattern, 'abcdefghi')\n",
    "if match:\n",
    "    print(match.group('first'))\n",
    "    print(match.groups())"
   ]
  },
  {
   "cell_type": "markdown",
   "metadata": {},
   "source": [
    "**|** this means OR, being blue|red maches either blue or red"
   ]
  },
  {
   "cell_type": "code",
   "execution_count": 33,
   "metadata": {},
   "outputs": [
    {
     "name": "stdout",
     "output_type": "stream",
     "text": [
      "Match 1\n",
      "Match 2\n"
     ]
    }
   ],
   "source": [
    "pattern = r\"gr(a|e)y\"\n",
    "\n",
    "match = re.match(pattern, 'gray')\n",
    "if match:\n",
    "    print('Match 1')\n",
    "    \n",
    "match = re.match(pattern, 'grey')\n",
    "if match:\n",
    "    print('Match 2')\n",
    "    \n",
    "match = re.match(pattern, 'griy')\n",
    "if match:\n",
    "    print('Match 3')"
   ]
  },
  {
   "cell_type": "markdown",
   "metadata": {},
   "source": [
    "### Special Sequences"
   ]
  },
  {
   "cell_type": "markdown",
   "metadata": {},
   "source": [
    "**backslash and a number between 1 and 99** matches the expression of the group of that number"
   ]
  },
  {
   "cell_type": "code",
   "execution_count": 38,
   "metadata": {},
   "outputs": [
    {
     "name": "stdout",
     "output_type": "stream",
     "text": [
      "Match 1\n",
      "Match 2\n"
     ]
    }
   ],
   "source": [
    "pattern = r\"(.+) \\1\" #\\1 refers to the first group's subexpression and not the regex pattern\n",
    "\n",
    "match = re.match(pattern, 'word word')\n",
    "if match:\n",
    "    print('Match 1')\n",
    "    \n",
    "match = re.match(pattern, '!? !?')\n",
    "if match:\n",
    "    print('Match 2')\n",
    "    \n",
    "match = re.match(pattern, 'abc cde')\n",
    "if match:\n",
    "    print('Match 3')"
   ]
  },
  {
   "cell_type": "code",
   "execution_count": 39,
   "metadata": {},
   "outputs": [
    {
     "name": "stdout",
     "output_type": "stream",
     "text": [
      "Match 1\n",
      "Match 2\n",
      "Match 3\n"
     ]
    }
   ],
   "source": [
    "pattern = r\"(.+)(.+)\" #there has to be whitespace before the backslash\n",
    "\n",
    "match = re.match(pattern, 'word word')\n",
    "if match:\n",
    "    print('Match 1')\n",
    "    \n",
    "match = re.match(pattern, '!? !?')\n",
    "if match:\n",
    "    print('Match 2')\n",
    "    \n",
    "match = re.match(pattern, 'abc cde')\n",
    "if match:\n",
    "    print('Match 3')"
   ]
  },
  {
   "cell_type": "markdown",
   "metadata": {},
   "source": [
    "- **\\d** matches digits --------------------- **\\D** means the opposite (anything that isn't a digit)\n",
    "- **\\s** matches whitespaces ------------ **\\S** means the opposite (anything that isn't a whitespace)\n",
    "- **\\w** matches word characters ------- **\\W** means the opposite (anything that isn't a word character)"
   ]
  },
  {
   "cell_type": "code",
   "execution_count": 43,
   "metadata": {},
   "outputs": [
    {
     "name": "stdout",
     "output_type": "stream",
     "text": [
      "Match 1\n"
     ]
    }
   ],
   "source": [
    "pattern = r\"(\\D+\\d)\" #one or more non-digits followed by a digit\n",
    "\n",
    "match = re.match(pattern, 'Hi 999!')\n",
    "if match:\n",
    "    print('Match 1')\n",
    "    \n",
    "match = re.match(pattern, '1, 23, 456!')\n",
    "if match:\n",
    "    print('Match 2')\n",
    "    \n",
    "match = re.match(pattern, '! $?')\n",
    "if match:\n",
    "    print('Match 3')"
   ]
  },
  {
   "cell_type": "markdown",
   "metadata": {},
   "source": [
    "- The sequences **\\A** and **\\Z** match the beginning and end of a string, respectively.\n",
    "- The sequence **\\b** matches the empty string between \\w and \\W characters, or \\w characters and the beginning or end of the string. Informally, it represents the boundary between words.\n",
    "- The sequence **\\B** matches the empty string anywhere else."
   ]
  },
  {
   "cell_type": "code",
   "execution_count": 44,
   "metadata": {},
   "outputs": [
    {
     "name": "stdout",
     "output_type": "stream",
     "text": [
      "Match 1\n",
      "Match 2\n"
     ]
    }
   ],
   "source": [
    "pattern = r\"\\b(cat)\\b\" #surrounded by word boundaries\n",
    "\n",
    "match = re.search(pattern, 'The cat sat!')\n",
    "if match:\n",
    "    print('Match 1')\n",
    "    \n",
    "match = re.search(pattern, 'We s>cat<tered?')\n",
    "if match:\n",
    "    print('Match 2')\n",
    "    \n",
    "match = re.search(pattern, 'We scattered')\n",
    "if match:\n",
    "    print('Match 3')"
   ]
  },
  {
   "cell_type": "markdown",
   "metadata": {},
   "source": [
    "### Email Extraction"
   ]
  },
  {
   "cell_type": "code",
   "execution_count": 46,
   "metadata": {},
   "outputs": [
    {
     "data": {
      "text/plain": [
       "'The regex above says that the string should contain a word (with dots and dashes allowed), \\nfollowed by the @ sign, then another similar word, then a dot and another word.'"
      ]
     },
     "execution_count": 46,
     "metadata": {},
     "output_type": "execute_result"
    }
   ],
   "source": [
    "string = 'Please contact info@sololearn.com for assistance'\n",
    "\n",
    "pattern = r\"([\\w\\.-]+)@([\\w\\.-]+)(\\.[\\w\\.]+)\"\n",
    "\n",
    "\"\"\"The regex above says that the string should contain a word (with dots and dashes allowed), \n",
    "followed by the @ sign, then another similar word, then a dot and another word.\"\"\""
   ]
  },
  {
   "cell_type": "code",
   "execution_count": 49,
   "metadata": {},
   "outputs": [
    {
     "name": "stdout",
     "output_type": "stream",
     "text": [
      "info@sololearn.com\n"
     ]
    }
   ],
   "source": [
    "match = re.search(pattern, string)\n",
    "if match:\n",
    "    print(match.group())"
   ]
  }
 ],
 "metadata": {
  "kernelspec": {
   "display_name": "Python 3 (ipykernel)",
   "language": "python",
   "name": "python3"
  },
  "language_info": {
   "codemirror_mode": {
    "name": "ipython",
    "version": 3
   },
   "file_extension": ".py",
   "mimetype": "text/x-python",
   "name": "python",
   "nbconvert_exporter": "python",
   "pygments_lexer": "ipython3",
   "version": "3.9.7"
  }
 },
 "nbformat": 4,
 "nbformat_minor": 4
}
